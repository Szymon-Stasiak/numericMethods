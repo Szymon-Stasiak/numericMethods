{
 "cells": [
  {
   "metadata": {},
   "cell_type": "markdown",
   "source": [
    "# Metoda Gradientów Sprzężonych #\n",
    "\n",
    "Metoda gradientów sprzężonych jest algorytmem optymalizacji, który jest szczególnie skuteczny w rozwiązywaniu problemów z dużą liczbą zmiennych. Jest to metoda iteracyjna, która wykorzystuje gradient funkcji celu do kierowania poszukiwaniem minimum."
   ],
   "id": "c662cd7e13f374e5"
  },
  {
   "metadata": {},
   "cell_type": "markdown",
   "source": "# Definicja funkcji ",
   "id": "4d187fdd231e791b"
  },
  {
   "metadata": {
    "ExecuteTime": {
     "end_time": "2025-06-09T18:36:10.222245Z",
     "start_time": "2025-06-09T18:36:10.216629Z"
    }
   },
   "cell_type": "code",
   "source": [
    "import numpy as np\n",
    "\n",
    "def conjugateGradientRes(A, b, x0, tol=1e-6, max_iter=100):\n",
    "    x = x0.copy()\n",
    "    r = b - A @ x\n",
    "    p = r.copy()\n",
    "    rs_old = r.T @ r\n",
    "\n",
    "    norms = [np.sqrt(rs_old)]\n",
    "\n",
    "    for _ in range(max_iter):\n",
    "        Ap = A @ p\n",
    "        a = rs_old / (p.T @ Ap)\n",
    "        x = x + a * p\n",
    "        r = r - a * Ap\n",
    "\n",
    "        rs_new = r.T @ r\n",
    "        norm = np.sqrt(rs_new)\n",
    "        norms.append(norm)\n",
    "        if norm < tol:\n",
    "            break\n",
    "\n",
    "        b = rs_new / rs_old\n",
    "        p = r + b * p\n",
    "        rs_old = rs_new\n",
    "\n",
    "    return x, norms"
   ],
   "id": "8989871f1486b6a2",
   "outputs": [],
   "execution_count": 230
  },
  {
   "metadata": {},
   "cell_type": "markdown",
   "source": [
    "Funkcja zwraca:\n",
    "- `x`: przybliżone rozwiązanie układu równań Ax = b po zakończeniu iteracji,\n",
    "- `norms`: lista norm reszt w kolejnych iteracjach, co pozwala na śledzenie postępu algorytmu."
   ],
   "id": "1db3263d777c5ba8"
  },
  {
   "metadata": {
    "ExecuteTime": {
     "end_time": "2025-06-09T18:36:10.388969Z",
     "start_time": "2025-06-09T18:36:10.383253Z"
    }
   },
   "cell_type": "code",
   "source": [
    " def conjugateGradientInfo(A, b, x0, tol=1e-6, max_iter=100):\n",
    "    x = x0.copy()\n",
    "    r = b - A @ x\n",
    "    p = r.copy()\n",
    "    rs_old = r.T @ r\n",
    "\n",
    "    calcs = [x.copy()]\n",
    "    norms = [np.sqrt(rs_old)]\n",
    "\n",
    "    for _ in range(max_iter):\n",
    "        Ap = A @ p\n",
    "        a = rs_old / (p.T @ Ap)\n",
    "        x = x + a * p\n",
    "        r = r - a * Ap\n",
    "        calcs.append(x.copy())\n",
    "\n",
    "        rs_new = r.T @ r\n",
    "        norm = np.sqrt(rs_new)\n",
    "        norms.append(norm)\n",
    "        if np.sqrt(rs_new) < tol:\n",
    "            break\n",
    "\n",
    "        b = rs_new / rs_old\n",
    "        p = r + b * p\n",
    "        rs_old = rs_new\n",
    "\n",
    "    return x, calcs, norms"
   ],
   "id": "8c5b75b6e28a8613",
   "outputs": [],
   "execution_count": 231
  },
  {
   "metadata": {},
   "cell_type": "markdown",
   "source": [
    "Funkcja `conjugateGradientInfo` zwraca dodatkowo:\n",
    "- `calcs`: lista przybliżeń rozwiązania w kolejnych iteracjach, co pozwala na analizę postępu algorytmu."
   ],
   "id": "ea0a0c88f14d8b28"
  },
  {
   "metadata": {},
   "cell_type": "markdown",
   "source": "# Testowanie funkcji",
   "id": "a3fd58877be036c2"
  },
  {
   "metadata": {
    "ExecuteTime": {
     "end_time": "2025-06-09T18:36:10.403904Z",
     "start_time": "2025-06-09T18:36:10.392978Z"
    }
   },
   "cell_type": "code",
   "source": [
    "A = np.array([[4, 1], [1, 3]])\n",
    "b = np.array([1, 2])\n",
    "x0 = np.zeros(2)\n",
    "x, norms = conjugateGradientRes(A, b, x0)\n",
    "print(\"Rozwiązanie:\", x)\n",
    "print(\"Normy:\", norms)\n",
    "print(\"Rozwiązanie numpy: \", np.linalg.solve(A, b))"
   ],
   "id": "8b7a940ed67f774f",
   "outputs": [
    {
     "name": "stdout",
     "output_type": "stream",
     "text": [
      "Rozwiązanie: [0.09090909 0.63636364]\n",
      "Normy: [np.float64(2.23606797749979), np.float64(0.5590169943749475), np.float64(0.0)]\n",
      "Rozwiązanie numpy:  [0.09090909 0.63636364]\n"
     ]
    }
   ],
   "execution_count": 232
  },
  {
   "metadata": {
    "ExecuteTime": {
     "end_time": "2025-06-09T18:36:10.422789Z",
     "start_time": "2025-06-09T18:36:10.415921Z"
    }
   },
   "cell_type": "code",
   "source": [
    "A= np.array([[4, 1, 0], [1, 3, 1], [0, 1, 2]])\n",
    "b = np.array([1, 2, 3])\n",
    "x0 = np.zeros(3)\n",
    "x, norms = conjugateGradientRes(A, b, x0)\n",
    "print(\"Rozwiązanie:\", x)\n",
    "print(\"Normy:\", norms)\n",
    "print(\"Rozwiązanie numpy: \", np.linalg.solve(A, b))"
   ],
   "id": "9699a9938f0b239e",
   "outputs": [
    {
     "name": "stdout",
     "output_type": "stream",
     "text": [
      "Rozwiązanie: [0.22222222 0.11111111 1.44444444]\n",
      "Normy: [np.float64(3.7416573867739413), np.float64(1.2961481396815722), np.float64(0.5862325810233123), np.float64(2.044325800678625e-16)]\n",
      "Rozwiązanie numpy:  [0.22222222 0.11111111 1.44444444]\n"
     ]
    }
   ],
   "execution_count": 233
  },
  {
   "metadata": {
    "ExecuteTime": {
     "end_time": "2025-06-09T18:36:10.463312Z",
     "start_time": "2025-06-09T18:36:10.455800Z"
    }
   },
   "cell_type": "code",
   "source": [
    "A= np.array([[4, 1, 0, 0], [1, 3, 1, 0], [0, 1, 2, 1], [0, 0, 1, 1]])\n",
    "b = np.array([1, 2, 3, 4])\n",
    "x0 = np.zeros(4)\n",
    "x, norms = conjugateGradientRes(A, b, x0)\n",
    "print(\"Rozwiązanie:\", x)\n",
    "print(\"Normy:\", norms)\n",
    "print(\"Rozwiązanie numpy: \", np.linalg.solve(A, b))"
   ],
   "id": "419a80d5286a6e9e",
   "outputs": [
    {
     "name": "stdout",
     "output_type": "stream",
     "text": [
      "Rozwiązanie: [-0.14285714  1.57142857 -2.57142857  6.57142857]\n",
      "Normy: [np.float64(5.477225575051661), np.float64(2.560381915956203), np.float64(2.161967319864575), np.float64(2.074726956173158), np.float64(7.451985202650987e-16)]\n",
      "Rozwiązanie numpy:  [-0.14285714  1.57142857 -2.57142857  6.57142857]\n"
     ]
    }
   ],
   "execution_count": 234
  },
  {
   "metadata": {
    "ExecuteTime": {
     "end_time": "2025-06-09T18:36:10.551842Z",
     "start_time": "2025-06-09T18:36:10.545681Z"
    }
   },
   "cell_type": "code",
   "source": [
    "A = np.array([[6, 3, 3], [3, 5, 2], [3, 2, 4]])\n",
    "b = np.array([3.0 ,2.0 , 4.0] )\n",
    "x0 = np.zeros(3)\n",
    "x, norms = conjugateGradientRes(A, b, x0)\n",
    "print(\"Rozwiązanie:\", x)\n",
    "print(\"Normy:\", norms)\n",
    "print(\"Rozwiązanie numpy: \", np.linalg.solve(A, b))"
   ],
   "id": "2d40060fbabbbae0",
   "outputs": [
    {
     "name": "stdout",
     "output_type": "stream",
     "text": [
      "Rozwiązanie: [1.52655666e-16 8.32667268e-17 1.00000000e+00]\n",
      "Normy: [np.float64(5.385164807134504), np.float64(1.4790691555838889), np.float64(0.2703009951869958), np.float64(2.5766758230879797e-15)]\n",
      "Rozwiązanie numpy:  [1.32169408e-16 3.17206578e-17 1.00000000e+00]\n"
     ]
    }
   ],
   "execution_count": 235
  },
  {
   "metadata": {
    "ExecuteTime": {
     "end_time": "2025-06-09T18:36:10.582806Z",
     "start_time": "2025-06-09T18:36:10.575536Z"
    }
   },
   "cell_type": "code",
   "source": [
    "A = np.array([[4, 1, 0, 0, 0], [1, 3, 1, 0, 0], [0, 1, 2, 1, 0], [0, 0, 1, 1, 1], [0, 0, 0, 1, 2]])\n",
    "b = np.array([1, 2, 3, 4, 5])\n",
    "x0 = np.zeros(5)\n",
    "x, norms = conjugateGradientRes(A, b, x0)\n",
    "print(\"Rozwiązanie:\", x)\n",
    "print(\"Normy:\", norms)\n",
    "print(\"Rozwiązanie numpy: \", np.linalg.solve(A, b))"
   ],
   "id": "ee44eaa6b12f7936",
   "outputs": [
    {
     "name": "stdout",
     "output_type": "stream",
     "text": [
      "Rozwiązanie: [ 0.25  0.    1.75 -0.5   2.75]\n",
      "Normy: [np.float64(7.416198487095663), np.float64(1.6987649834911838), np.float64(0.39184924481559075), np.float64(0.20110582312623798), np.float64(0.505121946459218), np.float64(3.4042470906738416e-15)]\n",
      "Rozwiązanie numpy:  [ 2.50000000e-01  3.22973971e-16  1.75000000e+00 -5.00000000e-01\n",
      "  2.75000000e+00]\n"
     ]
    }
   ],
   "execution_count": 236
  },
  {
   "metadata": {},
   "cell_type": "markdown",
   "source": "Na podstawie powyższych przykładów widać, że metoda gradientów sprzężonych skutecznie znajduje rozwiązania układów równań liniowych, a normy reszt maleją w kolejnych iteracjach, co wskazuje na zbieżność algorytmu.",
   "id": "a2389496a32f394b"
  },
  {
   "metadata": {},
   "cell_type": "markdown",
   "source": "# Sprawdzenie ilosci iteracji i normy residuum w zależności od wielkości macierzy",
   "id": "b75431e932a620e8"
  },
  {
   "metadata": {
    "ExecuteTime": {
     "end_time": "2025-06-09T18:36:15.669679Z",
     "start_time": "2025-06-09T18:36:10.620827Z"
    }
   },
   "cell_type": "code",
   "source": [
    "import numpy as np\n",
    "import matplotlib.pyplot as plt\n",
    "\n",
    "sizes = range(10, 1001, 10)\n",
    "iterations = []\n",
    "norm_diffs = []\n",
    "\n",
    "for n in sizes:\n",
    "    M = np.random.randn(n, n)\n",
    "    A = M.T @ M + n * np.eye(n)  \n",
    "    \n",
    "    b = np.random.randn(n)\n",
    "    x0 = np.zeros(n)\n",
    "\n",
    "    x, calcs, norms = conjugateGradientInfo(A, b, x0)\n",
    "\n",
    "    iterations.append(len(norms) - 1)  \n",
    "    norm_diffs.append(norms[0] - norms[-1])  \n",
    "\n",
    "plt.figure(figsize=(12, 5))\n",
    "\n",
    "plt.subplot(1, 2, 1)\n",
    "plt.plot(list(sizes), iterations, marker='o')\n",
    "plt.xlabel('Wielkość układu równań (n)')\n",
    "plt.ylabel('Liczba iteracji')\n",
    "plt.title('Liczba iteracji w zależności od rozmiaru układu')\n",
    "\n",
    "plt.subplot(1, 2, 2)\n",
    "plt.plot(list(sizes), norm_diffs, marker='o', color='orange')\n",
    "plt.xlabel('Wielkość układu równań (n)')\n",
    "plt.ylabel('Różnica norm residuów')\n",
    "plt.title('Różnica norm residuów w zależności od rozmiaru układu')\n",
    "\n",
    "plt.tight_layout()\n",
    "plt.show()"
   ],
   "id": "6245d3c4c3eb2e64",
   "outputs": [
    {
     "data": {
      "text/plain": [
       "<Figure size 1200x500 with 2 Axes>"
      ],
      "image/png": "[encoded data removed]"
     },
     "metadata": {},
     "output_type": "display_data"
    }
   ],
   "execution_count": 237
  },
  {
   "metadata": {},
   "cell_type": "markdown",
   "source": "# Wizualizacja postępu algorytmu dla macierzy 2x2",
   "id": "8de41d74bf3fbecc"
  },
  {
   "metadata": {
    "ExecuteTime": {
     "end_time": "2025-06-09T18:36:15.677785Z",
     "start_time": "2025-06-09T18:36:15.670684Z"
    }
   },
   "cell_type": "code",
   "source": [
    "import os\n",
    "import numpy as np\n",
    "import matplotlib.pyplot as plt\n",
    "from matplotlib.animation import FuncAnimation, PillowWriter\n",
    "from IPython.display import HTML\n",
    "from datetime import datetime\n",
    "\n",
    "def run_conjugate_gradient_animation(A, b, x0=None, tol=1e-8, max_iter=None):\n",
    "    if x0 is None:\n",
    "        x0 = np.zeros_like(b)\n",
    "    if max_iter is None:\n",
    "        max_iter = len(b)\n",
    "\n",
    "    animations_dir = \"animations\"\n",
    "    os.makedirs(animations_dir, exist_ok=True)\n",
    "\n",
    "    x_final, calcs, norms = conjugateGradientInfo(A, b, x0, tol=tol, max_iter=max_iter)\n",
    "\n",
    "    xs = [c[0] for c in calcs]\n",
    "    ys = [c[1] for c in calcs]\n",
    "\n",
    "    fig, (ax1, ax2) = plt.subplots(1, 2, figsize=(10, 4))\n",
    "    ax1.set_title(\"Trajektoria\")\n",
    "    ax1.set_xlabel(\"x\")\n",
    "    ax1.set_ylabel(\"y\")\n",
    "    ax1.plot(xs, ys, linestyle='--', label='Ścieżka')\n",
    "    point, = ax1.plot([], [], marker='o')\n",
    "\n",
    "    ax2.set_title(\"Norma residuum\")\n",
    "    ax2.set_xlabel(\"Iteracja\")\n",
    "    ax2.set_ylabel(\"||r||\")\n",
    "    ax2.set_yscale('log')\n",
    "    ax2.plot(norms, linestyle='--', label='Zbieżność')\n",
    "    norm_point, = ax2.plot([], [], marker='o')\n",
    "\n",
    "    def init():\n",
    "        point.set_data([], [])\n",
    "        norm_point.set_data([], [])\n",
    "        return point, norm_point\n",
    "\n",
    "    def update(frame):\n",
    "        point.set_data([xs[frame]], [ys[frame]])\n",
    "        norm_point.set_data([frame], [norms[frame]])\n",
    "        return point, norm_point\n",
    "\n",
    "    ani = FuncAnimation(fig, update, frames=len(calcs), init_func=init, blit=True, repeat=False)\n",
    "\n",
    "    timestamp = datetime.now().strftime(\"%Y%m%d_%H%M%S\")\n",
    "\n",
    "    shape_str = f\"{A.shape[0]}x{A.shape[1]}\"\n",
    "    gif_filename = f\"trajectory_{shape_str}_tol{tol:.0e}_{timestamp}.gif\"\n",
    "    gif_path = os.path.join(animations_dir, gif_filename)\n",
    "    ani.save(gif_path, writer=PillowWriter(fps=2))\n",
    "    plt.close(fig)\n",
    "\n",
    "    display(HTML(f\"<img src='{gif_path}' alt='Animacja trajektorii'>\"))\n",
    "\n",
    "    return x_final"
   ],
   "id": "1269468803f0932c",
   "outputs": [],
   "execution_count": 238
  },
  {
   "metadata": {},
   "cell_type": "markdown",
   "source": [
    "# Opisanie wykresów\n",
    "- Wykresy przedstawiają trajektorię rozwiązania w przestrzeni 2D oraz zbieżność normy residuum w kolejnych iteracjach.\n",
    "- Wykres trajektorii pokazuje, jak rozwiązanie zmienia się w przestrzeni, a wykres zbieżności normy residuum ilustruje, jak szybko algorytm zbiega do rozwiązania.\n"
   ],
   "id": "5230f4a0b644d91f"
  },
  {
   "metadata": {
    "ExecuteTime": {
     "end_time": "2025-06-09T18:36:16.191760Z",
     "start_time": "2025-06-09T18:36:15.678791Z"
    }
   },
   "cell_type": "code",
   "source": [
    "A= np.array([[4, 1], [1, 3]])\n",
    "b = np.array([1, 2])\n",
    "x0 = np.zeros(2)\n",
    "run_conjugate_gradient_animation(A, b, x0);"
   ],
   "id": "217042a8ea20c873",
   "outputs": [
    {
     "data": {
      "text/plain": [
       "<IPython.core.display.HTML object>"
      ],
      "text/html": [
       "<img src='animations\\trajectory_2x2_tol1e-08_20250609_203615.gif' alt='Animacja trajektorii'>"
      ]
     },
     "metadata": {},
     "output_type": "display_data"
    }
   ],
   "execution_count": 239
  },
  {
   "metadata": {
    "ExecuteTime": {
     "end_time": "2025-06-09T18:36:16.675682Z",
     "start_time": "2025-06-09T18:36:16.193768Z"
    }
   },
   "cell_type": "code",
   "source": [
    "A= np.array([[0, 55 ] , [ 7,99]])\n",
    "b = np.array([4, 3])\n",
    "x0 = np.ones(2)\n",
    "run_conjugate_gradient_animation(A, b, x0);"
   ],
   "id": "b12859f0cb13eabe",
   "outputs": [
    {
     "data": {
      "text/plain": [
       "<IPython.core.display.HTML object>"
      ],
      "text/html": [
       "<img src='animations\\trajectory_2x2_tol1e-08_20250609_203616.gif' alt='Animacja trajektorii'>"
      ]
     },
     "metadata": {},
     "output_type": "display_data"
    }
   ],
   "execution_count": 240
  },
  {
   "metadata": {},
   "cell_type": "markdown",
   "source": "# Wizualizacja postępu algorytmu dla macierzy 3x3",
   "id": "d51a1b35397c2774"
  },
  {
   "metadata": {
    "ExecuteTime": {
     "end_time": "2025-06-09T18:36:16.685526Z",
     "start_time": "2025-06-09T18:36:16.676687Z"
    }
   },
   "cell_type": "code",
   "source": [
    "import os\n",
    "import numpy as np\n",
    "import matplotlib.pyplot as plt\n",
    "from matplotlib.animation import FuncAnimation, PillowWriter\n",
    "from IPython.display import HTML, display\n",
    "import datetime  \n",
    "\n",
    "def run_conjugate_gradient_animation_3d(A, b, x0=None, tol=1e-8, max_iter=None):\n",
    "    if x0 is None:\n",
    "        x0 = np.zeros_like(b)\n",
    "    if max_iter is None:\n",
    "        max_iter = len(b)\n",
    "\n",
    "    animations_dir = \"animations\"\n",
    "    os.makedirs(animations_dir, exist_ok=True)\n",
    "\n",
    "    x_final, calcs, norms = conjugateGradientInfo(A, b, x0, tol=tol, max_iter=max_iter)\n",
    "\n",
    "    xs = [c[0] for c in calcs]\n",
    "    ys = [c[1] for c in calcs]\n",
    "    zs = [c[2] for c in calcs]\n",
    "\n",
    "    fig = plt.figure(figsize=(12, 5))\n",
    "    ax1 = fig.add_subplot(1, 2, 1, projection='3d')\n",
    "    ax2 = fig.add_subplot(1, 2, 2)\n",
    "\n",
    "    ax1.set_title(\"Trajektoria w 3D\")\n",
    "    ax1.set_xlabel(\"x\")\n",
    "    ax1.set_ylabel(\"y\")\n",
    "    ax1.set_zlabel(\"z\")\n",
    "    ax1.plot(xs, ys, zs, linestyle='--', label='Ścieżka')\n",
    "    point, = ax1.plot([], [], [], marker='o', color='red', label='Aktualna pozycja')\n",
    "\n",
    "    ax2.set_title(\"Norma residuum\")\n",
    "    ax2.set_xlabel(\"Iteracja\")\n",
    "    ax2.set_ylabel(\"||r||\")\n",
    "    ax2.set_yscale('log')\n",
    "    ax2.plot(norms, linestyle='--', label='Zbieżność')\n",
    "    norm_point, = ax2.plot([], [], marker='o', color='red')\n",
    "\n",
    "    def init():\n",
    "        point.set_data([], [])\n",
    "        point.set_3d_properties([])\n",
    "        norm_point.set_data([], [])\n",
    "        return point, norm_point\n",
    "\n",
    "    def update(frame):\n",
    "        point.set_data([xs[frame]], [ys[frame]])\n",
    "        point.set_3d_properties([zs[frame]])\n",
    "        norm_point.set_data([frame], [norms[frame]])\n",
    "        return point, norm_point\n",
    "\n",
    "    ani = FuncAnimation(fig, update, frames=len(calcs), init_func=init, blit=True, repeat=False)\n",
    "\n",
    "    timestamp = datetime.datetime.now().strftime(\"%Y%m%d_%H%M%S\")\n",
    "    shape_str = f\"{A.shape[0]}x{A.shape[1]}\"\n",
    "    gif_filename = f\"trajectory3D_{shape_str}_tol{tol:.0e}_{timestamp}.gif\"\n",
    "    gif_path = os.path.join(animations_dir, gif_filename)\n",
    "    ani.save(gif_path, writer=PillowWriter(fps=2))\n",
    "    plt.close(fig)\n",
    "\n",
    "    display(HTML(f\"<img src='{gif_path}' alt='Animacja trajektorii 3D'>\"))\n",
    "\n",
    "    print(\"Wektor początkowy x0:\")\n",
    "    print(np.array2string(x0, precision=6, floatmode='fixed'))\n",
    "    print(\"\\nWyniki iteracji:\")\n",
    "\n",
    "    for i, (x_iter, norm) in enumerate(zip(calcs, norms)):\n",
    "        print(f\"Iteracja {i}:\")\n",
    "        print(f\"x = {np.array2string(np.array(x_iter), precision=6, floatmode='fixed')}\")\n",
    "        print(f\"Norma residuum ||r|| = {norm:.3e}\\n\")\n",
    "\n",
    "    print(f\"Końcowy wynik po {len(calcs)-1} iteracjach:\")\n",
    "    print(np.array2string(x_final, precision=6, floatmode='fixed'))\n",
    "\n",
    "    return x_final\n"
   ],
   "id": "e272f040dd37282e",
   "outputs": [],
   "execution_count": 241
  },
  {
   "metadata": {
    "ExecuteTime": {
     "end_time": "2025-06-09T18:36:17.427159Z",
     "start_time": "2025-06-09T18:36:16.687371Z"
    }
   },
   "cell_type": "code",
   "source": [
    "A = np.array([[4, 1, 0], [1, 3, 1], [0, 1, 2]])\n",
    "b = np.array([1, 2, 3])\n",
    "x0 = np.zeros(3)\n",
    "run_conjugate_gradient_animation_3d(A, b, x0);"
   ],
   "id": "2ac3713758c1cb94",
   "outputs": [
    {
     "data": {
      "text/plain": [
       "<IPython.core.display.HTML object>"
      ],
      "text/html": [
       "<img src='animations\\trajectory3D_3x3_tol1e-08_20250609_203616.gif' alt='Animacja trajektorii 3D'>"
      ]
     },
     "metadata": {},
     "output_type": "display_data"
    },
    {
     "name": "stdout",
     "output_type": "stream",
     "text": [
      "Wektor początkowy x0:\n",
      "[0.000000 0.000000 0.000000]\n",
      "\n",
      "Wyniki iteracji:\n",
      "Iteracja 0:\n",
      "x = [0.000000 0.000000 0.000000]\n",
      "Norma residuum ||r|| = 3.742e+00\n",
      "\n",
      "Iteracja 1:\n",
      "x = [0.280000 0.560000 0.840000]\n",
      "Norma residuum ||r|| = 1.296e+00\n",
      "\n",
      "Iteracja 2:\n",
      "x = [0.049231 0.329231 1.301538]\n",
      "Norma residuum ||r|| = 5.862e-01\n",
      "\n",
      "Iteracja 3:\n",
      "x = [0.222222 0.111111 1.444444]\n",
      "Norma residuum ||r|| = 2.044e-16\n",
      "\n",
      "Końcowy wynik po 3 iteracjach:\n",
      "[0.222222 0.111111 1.444444]\n"
     ]
    }
   ],
   "execution_count": 242
  },
  {
   "metadata": {
    "ExecuteTime": {
     "end_time": "2025-06-09T18:36:18.157112Z",
     "start_time": "2025-06-09T18:36:17.428171Z"
    }
   },
   "cell_type": "code",
   "source": [
    "A = np.array([[6, 3, 3], [3, 5, 2], [3, 2, 4]])\n",
    "b = np.array([5, 2, 3])\n",
    "x0 = np.zeros(3)\n",
    "run_conjugate_gradient_animation_3d(A, b, x0);"
   ],
   "id": "9fd56a4a8a0bf053",
   "outputs": [
    {
     "data": {
      "text/plain": [
       "<IPython.core.display.HTML object>"
      ],
      "text/html": [
       "<img src='animations\\trajectory3D_3x3_tol1e-08_20250609_203617.gif' alt='Animacja trajektorii 3D'>"
      ]
     },
     "metadata": {},
     "output_type": "display_data"
    },
    {
     "name": "stdout",
     "output_type": "stream",
     "text": [
      "Wektor początkowy x0:\n",
      "[0.000000 0.000000 0.000000]\n",
      "\n",
      "Wyniki iteracji:\n",
      "Iteracja 0:\n",
      "x = [0.000000 0.000000 0.000000]\n",
      "Norma residuum ||r|| = 6.164e+00\n",
      "\n",
      "Iteracja 1:\n",
      "x = [0.500000 0.200000 0.300000]\n",
      "Norma residuum ||r|| = 1.212e+00\n",
      "\n",
      "Iteracja 2:\n",
      "x = [ 0.763983 -0.189312  0.306111]\n",
      "Norma residuum ||r|| = 1.584e-01\n",
      "\n",
      "Iteracja 3:\n",
      "x = [ 0.803922 -0.176471  0.235294]\n",
      "Norma residuum ||r|| = 1.102e-15\n",
      "\n",
      "Końcowy wynik po 3 iteracjach:\n",
      "[ 0.803922 -0.176471  0.235294]\n"
     ]
    }
   ],
   "execution_count": 243
  },
  {
   "metadata": {},
   "cell_type": "markdown",
   "source": "# Animacja 3D trajektorii rozwiązania da macierzy 3x3 z różnymi wektorami początkowymi #",
   "id": "2e5dbb261198f29a"
  },
  {
   "metadata": {
    "ExecuteTime": {
     "end_time": "2025-06-09T18:36:18.171878Z",
     "start_time": "2025-06-09T18:36:18.158118Z"
    }
   },
   "cell_type": "code",
   "source": [
    "import os\n",
    "import numpy as np\n",
    "import matplotlib.pyplot as plt\n",
    "from matplotlib.animation import FuncAnimation, PillowWriter\n",
    "from IPython.display import HTML, display\n",
    "import datetime  \n",
    "\n",
    "def run_conjugate_gradient_animation_3d_multiple_starts(A, b, x0_list=None, tol=1e-8, max_iter=None):\n",
    "    if x0_list is None:\n",
    "        x0_list = [np.zeros_like(b), np.ones_like(b), np.array([1,0,1])]\n",
    "    if max_iter is None:\n",
    "        max_iter = len(b)\n",
    "\n",
    "    animations_dir = \"animations\"\n",
    "    os.makedirs(animations_dir, exist_ok=True)\n",
    "\n",
    "    colors = ['red', 'green', 'blue']\n",
    "    labels = ['x0 = [0,0,0]', 'x0 = [1,1,1]', 'x0 = [1,0,1]']\n",
    "\n",
    "    results = []\n",
    "    for x0 in x0_list:\n",
    "        x_final, calcs, norms = conjugateGradientInfo(A, b, x0, tol=tol, max_iter=max_iter)\n",
    "        results.append((x_final, calcs, norms))\n",
    "\n",
    "    fig = plt.figure(figsize=(12, 5))\n",
    "    ax1 = fig.add_subplot(1, 2, 1, projection='3d')\n",
    "    ax2 = fig.add_subplot(1, 2, 2)\n",
    "\n",
    "    ax1.set_title(\"Trajektoria w 3D - różne x0\")\n",
    "    ax1.set_xlabel(\"x\")\n",
    "    ax1.set_ylabel(\"y\")\n",
    "    ax1.set_zlabel(\"z\")\n",
    "\n",
    "    ax2.set_title(\"Norma residuum - różne x0\")\n",
    "    ax2.set_xlabel(\"Iteracja\")\n",
    "    ax2.set_ylabel(\"||r||\")\n",
    "    ax2.set_yscale('log')\n",
    "\n",
    "    points = []\n",
    "    norm_points = []\n",
    "    max_frames = max(len(r[1]) for r in results)  \n",
    "\n",
    "    for color, label, (x_final, calcs, norms) in zip(colors, labels, results):\n",
    "        xs = [c[0] for c in calcs]\n",
    "        ys = [c[1] for c in calcs]\n",
    "        zs = [c[2] for c in calcs]\n",
    "\n",
    "        ax1.plot(xs, ys, zs, linestyle='--', color=color, label=label)\n",
    "        p, = ax1.plot([], [], [], marker='o', color=color)\n",
    "        points.append(p)\n",
    "\n",
    "        ax2.plot(norms, linestyle='--', color=color, label=label)\n",
    "        np_point, = ax2.plot([], [], marker='o', color=color)\n",
    "        norm_points.append(np_point)\n",
    "\n",
    "    ax1.legend()\n",
    "    ax2.legend()\n",
    "\n",
    "    def init():\n",
    "        for p, np_point in zip(points, norm_points):\n",
    "            p.set_data([], [])\n",
    "            p.set_3d_properties([])\n",
    "            np_point.set_data([], [])\n",
    "        return points + norm_points\n",
    "\n",
    "    def update(frame):\n",
    "        for i, (p, np_point, (x_final, calcs, norms)) in enumerate(zip(points, norm_points, results)):\n",
    "            if frame < len(calcs):\n",
    "                xs, ys, zs = calcs[frame]\n",
    "                p.set_data([xs], [ys])\n",
    "                p.set_3d_properties([zs])\n",
    "                np_point.set_data([frame], [norms[frame]])\n",
    "            else:\n",
    "                xs, ys, zs = calcs[-1]\n",
    "                p.set_data([xs], [ys])\n",
    "                p.set_3d_properties([zs])\n",
    "                np_point.set_data([len(calcs)-1], [norms[-1]])\n",
    "        return points + norm_points\n",
    "\n",
    "    ani = FuncAnimation(fig, update, frames=max_frames, init_func=init, blit=True, repeat=False)\n",
    "\n",
    "    timestamp = datetime.datetime.now().strftime(\"%Y%m%d_%H%M%S\")\n",
    "    shape_str = f\"{A.shape[0]}x{A.shape[1]}\"\n",
    "    gif_filename = f\"trajectory3D_multiple_starts_{shape_str}_tol{tol:.0e}_{timestamp}.gif\"\n",
    "    gif_path = os.path.join(animations_dir, gif_filename)\n",
    "    ani.save(gif_path, writer=PillowWriter(fps=2))\n",
    "    plt.close(fig)\n",
    "\n",
    "    display(HTML(f\"<img src='{gif_path}' alt='Animacja trajektorii 3D'>\"))\n",
    "\n",
    "    for i, (x0, (x_final, calcs, norms)) in enumerate(zip(x0_list, results)):\n",
    "        print(f\"\\nWektor początkowy x0 ({labels[i]}):\")\n",
    "        print(np.array2string(x0, precision=6, floatmode='fixed'))\n",
    "        print(\"\\nWyniki iteracji:\")\n",
    "        for j, (x_iter, norm) in enumerate(zip(calcs, norms)):\n",
    "            print(f\"Iteracja {j}:\")\n",
    "            print(f\"x = {np.array2string(np.array(x_iter), precision=6, floatmode='fixed')}\")\n",
    "            print(f\"Norma residuum ||r|| = {norm:.3e}\\n\")\n",
    "        print(f\"Końcowy wynik po {len(calcs)-1} iteracjach:\")\n",
    "        print(np.array2string(x_final, precision=6, floatmode='fixed'))\n",
    "\n",
    "    return [r[0] for r in results]\n"
   ],
   "id": "8efae7737051db87",
   "outputs": [],
   "execution_count": 244
  },
  {
   "metadata": {
    "ExecuteTime": {
     "end_time": "2025-06-09T18:36:18.918810Z",
     "start_time": "2025-06-09T18:36:18.172993Z"
    }
   },
   "cell_type": "code",
   "source": [
    "A = np.array([[4, 1, 0], [1, 3, 1], [0, 1, 2]])\n",
    "b = np.array([1, 2, 3])\n",
    "x0_list = [np.zeros(3), np.ones(3), np.array([1, 0, 1])]\n",
    "run_conjugate_gradient_animation_3d_multiple_starts(A, b, x0_list)"
   ],
   "id": "ebf0eb0adb2a4f54",
   "outputs": [
    {
     "data": {
      "text/plain": [
       "<IPython.core.display.HTML object>"
      ],
      "text/html": [
       "<img src='animations\\trajectory3D_multiple_starts_3x3_tol1e-08_20250609_203618.gif' alt='Animacja trajektorii 3D'>"
      ]
     },
     "metadata": {},
     "output_type": "display_data"
    },
    {
     "name": "stdout",
     "output_type": "stream",
     "text": [
      "\n",
      "Wektor początkowy x0 (x0 = [0,0,0]):\n",
      "[0.000000 0.000000 0.000000]\n",
      "\n",
      "Wyniki iteracji:\n",
      "Iteracja 0:\n",
      "x = [0.000000 0.000000 0.000000]\n",
      "Norma residuum ||r|| = 3.742e+00\n",
      "\n",
      "Iteracja 1:\n",
      "x = [0.280000 0.560000 0.840000]\n",
      "Norma residuum ||r|| = 1.296e+00\n",
      "\n",
      "Iteracja 2:\n",
      "x = [0.049231 0.329231 1.301538]\n",
      "Norma residuum ||r|| = 5.862e-01\n",
      "\n",
      "Iteracja 3:\n",
      "x = [0.222222 0.111111 1.444444]\n",
      "Norma residuum ||r|| = 2.044e-16\n",
      "\n",
      "Końcowy wynik po 3 iteracjach:\n",
      "[0.222222 0.111111 1.444444]\n",
      "\n",
      "Wektor początkowy x0 (x0 = [1,1,1]):\n",
      "[1.000000 1.000000 1.000000]\n",
      "\n",
      "Wyniki iteracji:\n",
      "Iteracja 0:\n",
      "x = [1.000000 1.000000 1.000000]\n",
      "Norma residuum ||r|| = 5.000e+00\n",
      "\n",
      "Iteracja 1:\n",
      "x = [0.130435 0.347826 1.000000]\n",
      "Norma residuum ||r|| = 6.875e-01\n",
      "\n",
      "Iteracja 2:\n",
      "x = [0.167651 0.191263 1.442739]\n",
      "Norma residuum ||r|| = 2.427e-01\n",
      "\n",
      "Iteracja 3:\n",
      "x = [0.222222 0.111111 1.444444]\n",
      "Norma residuum ||r|| = 2.578e-16\n",
      "\n",
      "Końcowy wynik po 3 iteracjach:\n",
      "[0.222222 0.111111 1.444444]\n",
      "\n",
      "Wektor początkowy x0 (x0 = [1,0,1]):\n",
      "[1 0 1]\n",
      "\n",
      "Wyniki iteracji:\n",
      "Iteracja 0:\n",
      "x = [1 0 1]\n",
      "Norma residuum ||r|| = 3.162e+00\n",
      "\n",
      "Iteracja 1:\n",
      "x = [0.210526 0.000000 1.263158]\n",
      "Norma residuum ||r|| = 7.255e-01\n",
      "\n",
      "Iteracja 2:\n",
      "x = [0.210526 0.142857 1.406015]\n",
      "Norma residuum ||r|| = 6.555e-02\n",
      "\n",
      "Iteracja 3:\n",
      "x = [0.222222 0.111111 1.444444]\n",
      "Norma residuum ||r|| = 3.299e-16\n",
      "\n",
      "Końcowy wynik po 3 iteracjach:\n",
      "[0.222222 0.111111 1.444444]\n"
     ]
    },
    {
     "data": {
      "text/plain": [
       "[array([0.22222222, 0.11111111, 1.44444444]),\n",
       " array([0.22222222, 0.11111111, 1.44444444]),\n",
       " array([0.22222222, 0.11111111, 1.44444444])]"
      ]
     },
     "execution_count": 245,
     "metadata": {},
     "output_type": "execute_result"
    }
   ],
   "execution_count": 245
  },
  {
   "metadata": {},
   "cell_type": "markdown",
   "source": [
    "# Macierze 3x3  #\n",
    "- diagonalna macierz 3x3,\n",
    "- dobrze uwarunkowana macierz 3x3 (np. macierz bliska jednostkowej),\n",
    "- macierz bliska osobliwej 3x3 (wyznacznik bliski 0),\n",
    "- symetryczna macierz 3x3,\n",
    "- diagonalna macierz 3x3 o dużym rozrzucie wartości,\n",
    "- macierz jednostkowa 3x3.\n",
    "- macierz Laplasjana 3x3 "
   ],
   "id": "ca9aa2869c5ee8cd"
  },
  {
   "metadata": {
    "ExecuteTime": {
     "end_time": "2025-06-09T18:36:18.926458Z",
     "start_time": "2025-06-09T18:36:18.919817Z"
    }
   },
   "cell_type": "code",
   "source": [
    "def get_matrices_with_descriptions():\n",
    "    matrices = {}\n",
    "\n",
    "    diag = np.diag([1.0, 2.0, 3.0])\n",
    "    matrices['Diagonalna'] = diag\n",
    "\n",
    "    well_conditioned = np.array([\n",
    "        [1, 0.1, 0],\n",
    "        [0.1, 1, 0.1],\n",
    "        [0, 0.1, 1]\n",
    "    ], dtype=float)\n",
    "    matrices['Dobrze uwarunkowana'] = well_conditioned\n",
    "\n",
    "    close_to_singular = np.array([\n",
    "        [1, 1, 1],\n",
    "        [1, 1.01, 1],\n",
    "        [1, 1, 1.02]\n",
    "    ], dtype=float)\n",
    "    matrices['Bliska osobliwej'] = close_to_singular\n",
    "\n",
    "    symmetric = np.array([\n",
    "        [2, -1, 0],\n",
    "        [-1, 2, -1],\n",
    "        [0, -1, 2]\n",
    "    ], dtype=float)\n",
    "    matrices['Symetryczna'] = symmetric\n",
    "\n",
    "    diag_wide_range = np.diag([1.0, 10.0, 100.0])\n",
    "    matrices['Diagonalna z dużym rozrzutem wartości'] = diag_wide_range\n",
    "\n",
    "    identity = np.eye(3, dtype=float)\n",
    "    matrices['Jednostkowa'] = identity\n",
    "\n",
    "    laplacian = np.array([\n",
    "        [1, -1, 0],\n",
    "        [-1, 2, -1],\n",
    "        [0, -1, 1]\n",
    "    ], dtype=float)\n",
    "    matrices['Macierz Laplasjana'] = laplacian\n",
    "\n",
    "    return matrices"
   ],
   "id": "8650e8d1da136b73",
   "outputs": [],
   "execution_count": 246
  },
  {
   "metadata": {
    "ExecuteTime": {
     "end_time": "2025-06-09T18:36:24.135814Z",
     "start_time": "2025-06-09T18:36:18.927464Z"
    }
   },
   "cell_type": "code",
   "source": [
    "matrices = get_matrices_with_descriptions()\n",
    "for description, matrix in matrices.items():\n",
    "    b = np.array([3,2,4], dtype=float) \n",
    "    x0_list = [np.zeros(3 ,dtype=float), np.ones(3,dtype=float), np.array([1, 0, 1], dtype=float)] \n",
    "    print(f\"Macierz: {description}\")\n",
    "    run_conjugate_gradient_animation_3d_multiple_starts(matrix, b, x0_list)"
   ],
   "id": "896d9f3df68619c6",
   "outputs": [
    {
     "name": "stdout",
     "output_type": "stream",
     "text": [
      "Macierz: Diagonalna\n"
     ]
    },
    {
     "data": {
      "text/plain": [
       "<IPython.core.display.HTML object>"
      ],
      "text/html": [
       "<img src='animations\\trajectory3D_multiple_starts_3x3_tol1e-08_20250609_203619.gif' alt='Animacja trajektorii 3D'>"
      ]
     },
     "metadata": {},
     "output_type": "display_data"
    },
    {
     "name": "stdout",
     "output_type": "stream",
     "text": [
      "\n",
      "Wektor początkowy x0 (x0 = [0,0,0]):\n",
      "[0.000000 0.000000 0.000000]\n",
      "\n",
      "Wyniki iteracji:\n",
      "Iteracja 0:\n",
      "x = [0.000000 0.000000 0.000000]\n",
      "Norma residuum ||r|| = 5.385e+00\n",
      "\n",
      "Iteracja 1:\n",
      "x = [1.338462 0.892308 1.784615]\n",
      "Norma residuum ||r|| = 2.154e+00\n",
      "\n",
      "Iteracja 2:\n",
      "x = [2.824176 1.263736 1.289377]\n",
      "Norma residuum ||r|| = 5.714e-01\n",
      "\n",
      "Iteracja 3:\n",
      "x = [3.000000 1.000000 1.333333]\n",
      "Norma residuum ||r|| = 1.495e-16\n",
      "\n",
      "Końcowy wynik po 3 iteracjach:\n",
      "[3.000000 1.000000 1.333333]\n",
      "\n",
      "Wektor początkowy x0 (x0 = [1,1,1]):\n",
      "[1.000000 1.000000 1.000000]\n",
      "\n",
      "Wyniki iteracji:\n",
      "Iteracja 0:\n",
      "x = [1.000000 1.000000 1.000000]\n",
      "Norma residuum ||r|| = 2.236e+00\n",
      "\n",
      "Iteracja 1:\n",
      "x = [2.428571 1.000000 1.714286]\n",
      "Norma residuum ||r|| = 1.278e+00\n",
      "\n",
      "Iteracja 2:\n",
      "x = [3.000000 1.000000 1.333333]\n",
      "Norma residuum ||r|| = 0.000e+00\n",
      "\n",
      "Końcowy wynik po 2 iteracjach:\n",
      "[3.000000 1.000000 1.333333]\n",
      "\n",
      "Wektor początkowy x0 (x0 = [1,0,1]):\n",
      "[1.000000 0.000000 1.000000]\n",
      "\n",
      "Wyniki iteracji:\n",
      "Iteracja 0:\n",
      "x = [1.000000 0.000000 1.000000]\n",
      "Norma residuum ||r|| = 3.000e+00\n",
      "\n",
      "Iteracja 1:\n",
      "x = [2.200000 1.200000 1.600000]\n",
      "Norma residuum ||r|| = 1.200e+00\n",
      "\n",
      "Iteracja 2:\n",
      "x = [2.846154 1.153846 1.230769]\n",
      "Norma residuum ||r|| = 4.615e-01\n",
      "\n",
      "Iteracja 3:\n",
      "x = [3.000000 1.000000 1.333333]\n",
      "Norma residuum ||r|| = 6.206e-17\n",
      "\n",
      "Końcowy wynik po 3 iteracjach:\n",
      "[3.000000 1.000000 1.333333]\n",
      "Macierz: Dobrze uwarunkowana\n"
     ]
    },
    {
     "data": {
      "text/plain": [
       "<IPython.core.display.HTML object>"
      ],
      "text/html": [
       "<img src='animations\\trajectory3D_multiple_starts_3x3_tol1e-08_20250609_203619.gif' alt='Animacja trajektorii 3D'>"
      ]
     },
     "metadata": {},
     "output_type": "display_data"
    },
    {
     "name": "stdout",
     "output_type": "stream",
     "text": [
      "\n",
      "Wektor początkowy x0 (x0 = [0,0,0]):\n",
      "[0.000000 0.000000 0.000000]\n",
      "\n",
      "Wyniki iteracji:\n",
      "Iteracja 0:\n",
      "x = [0.000000 0.000000 0.000000]\n",
      "Norma residuum ||r|| = 5.385e+00\n",
      "\n",
      "Iteracja 1:\n",
      "x = [2.735849 1.823899 3.647799]\n",
      "Norma residuum ||r|| = 4.992e-01\n",
      "\n",
      "Iteracja 2:\n",
      "x = [2.855706 1.327852 3.875367]\n",
      "Norma residuum ||r|| = 1.414e-02\n",
      "\n",
      "Iteracja 3:\n",
      "x = [2.867347 1.326531 3.867347]\n",
      "Norma residuum ||r|| = 1.763e-17\n",
      "\n",
      "Końcowy wynik po 3 iteracjach:\n",
      "[2.867347 1.326531 3.867347]\n",
      "\n",
      "Wektor początkowy x0 (x0 = [1,1,1]):\n",
      "[1.000000 1.000000 1.000000]\n",
      "\n",
      "Wyniki iteracji:\n",
      "Iteracja 0:\n",
      "x = [1.000000 1.000000 1.000000]\n",
      "Norma residuum ||r|| = 3.558e+00\n",
      "\n",
      "Iteracja 1:\n",
      "x = [2.791332 1.754245 3.734138]\n",
      "Norma residuum ||r|| = 4.180e-01\n",
      "\n",
      "Iteracja 2:\n",
      "x = [2.855433 1.327691 3.874764]\n",
      "Norma residuum ||r|| = 1.402e-02\n",
      "\n",
      "Iteracja 3:\n",
      "x = [2.867347 1.326531 3.867347]\n",
      "Norma residuum ||r|| = 9.591e-18\n",
      "\n",
      "Końcowy wynik po 3 iteracjach:\n",
      "[2.867347 1.326531 3.867347]\n",
      "\n",
      "Wektor początkowy x0 (x0 = [1,0,1]):\n",
      "[1.000000 0.000000 1.000000]\n",
      "\n",
      "Wyniki iteracji:\n",
      "Iteracja 0:\n",
      "x = [1.000000 0.000000 1.000000]\n",
      "Norma residuum ||r|| = 4.030e+00\n",
      "\n",
      "Iteracja 1:\n",
      "x = [2.800443 1.620399 3.700665]\n",
      "Norma residuum ||r|| = 3.057e-01\n",
      "\n",
      "Iteracja 2:\n",
      "x = [2.855378 1.328872 3.873858]\n",
      "Norma residuum ||r|| = 1.365e-02\n",
      "\n",
      "Iteracja 3:\n",
      "x = [2.867347 1.326531 3.867347]\n",
      "Norma residuum ||r|| = 2.459e-17\n",
      "\n",
      "Końcowy wynik po 3 iteracjach:\n",
      "[2.867347 1.326531 3.867347]\n",
      "Macierz: Bliska osobliwej\n"
     ]
    },
    {
     "data": {
      "text/plain": [
       "<IPython.core.display.HTML object>"
      ],
      "text/html": [
       "<img src='animations\\trajectory3D_multiple_starts_3x3_tol1e-08_20250609_203620.gif' alt='Animacja trajektorii 3D'>"
      ]
     },
     "metadata": {},
     "output_type": "display_data"
    },
    {
     "name": "stdout",
     "output_type": "stream",
     "text": [
      "\n",
      "Wektor początkowy x0 (x0 = [0,0,0]):\n",
      "[0.000000 0.000000 0.000000]\n",
      "\n",
      "Wyniki iteracji:\n",
      "Iteracja 0:\n",
      "x = [0.000000 0.000000 0.000000]\n",
      "Norma residuum ||r|| = 5.385e+00\n",
      "\n",
      "Iteracja 1:\n",
      "x = [1.069322 0.712881 1.425762]\n",
      "Norma residuum ||r|| = 1.450e+00\n",
      "\n",
      "Iteracja 2:\n",
      "x = [  1.665354 -66.056121  67.162778]\n",
      "Norma residuum ||r|| = 2.787e-01\n",
      "\n",
      "Iteracja 3:\n",
      "x = [  53.000000 -100.000000   50.000000]\n",
      "Norma residuum ||r|| = 9.476e-12\n",
      "\n",
      "Końcowy wynik po 3 iteracjach:\n",
      "[  53.000000 -100.000000   50.000000]\n",
      "\n",
      "Wektor początkowy x0 (x0 = [1,1,1]):\n",
      "[1.000000 1.000000 1.000000]\n",
      "\n",
      "Wyniki iteracji:\n",
      "Iteracja 0:\n",
      "x = [1.000000 1.000000 1.000000]\n",
      "Norma residuum ||r|| = 1.407e+00\n",
      "\n",
      "Iteracja 1:\n",
      "x = [  1.000000 -64.997064  65.036755]\n",
      "Norma residuum ||r|| = 3.032e+00\n",
      "\n",
      "Iteracja 2:\n",
      "x = [  1.672637 -66.052650  67.166553]\n",
      "Norma residuum ||r|| = 2.798e-01\n",
      "\n",
      "Iteracja 3:\n",
      "x = [  53.000000 -100.000000   50.000000]\n",
      "Norma residuum ||r|| = 2.902e-13\n",
      "\n",
      "Końcowy wynik po 3 iteracjach:\n",
      "[  53.000000 -100.000000   50.000000]\n",
      "\n",
      "Wektor początkowy x0 (x0 = [1,0,1]):\n",
      "[1.000000 0.000000 1.000000]\n",
      "\n",
      "Wyniki iteracji:\n",
      "Iteracja 0:\n",
      "x = [1.000000 0.000000 1.000000]\n",
      "Norma residuum ||r|| = 2.218e+00\n",
      "\n",
      "Iteracja 1:\n",
      "x = [1.549225 0.000000 2.087465]\n",
      "Norma residuum ||r|| = 1.785e+00\n",
      "\n",
      "Iteracja 2:\n",
      "x = [  1.999903 -66.277980  67.051487]\n",
      "Norma residuum ||r|| = 2.769e-01\n",
      "\n",
      "Iteracja 3:\n",
      "x = [  53.000000 -100.000000   50.000000]\n",
      "Norma residuum ||r|| = 3.467e-12\n",
      "\n",
      "Końcowy wynik po 3 iteracjach:\n",
      "[  53.000000 -100.000000   50.000000]\n",
      "Macierz: Symetryczna\n"
     ]
    },
    {
     "data": {
      "text/plain": [
       "<IPython.core.display.HTML object>"
      ],
      "text/html": [
       "<img src='animations\\trajectory3D_multiple_starts_3x3_tol1e-08_20250609_203621.gif' alt='Animacja trajektorii 3D'>"
      ]
     },
     "metadata": {},
     "output_type": "display_data"
    },
    {
     "name": "stdout",
     "output_type": "stream",
     "text": [
      "\n",
      "Wektor początkowy x0 (x0 = [0,0,0]):\n",
      "[0.000000 0.000000 0.000000]\n",
      "\n",
      "Wyniki iteracji:\n",
      "Iteracja 0:\n",
      "x = [0.000000 0.000000 0.000000]\n",
      "Norma residuum ||r|| = 5.385e+00\n",
      "\n",
      "Iteracja 1:\n",
      "x = [2.900000 1.933333 3.866667]\n",
      "Norma residuum ||r|| = 5.292e+00\n",
      "\n",
      "Iteracja 2:\n",
      "x = [3.949396 5.464635 4.932720]\n",
      "Norma residuum ||r|| = 6.950e-01\n",
      "\n",
      "Iteracja 3:\n",
      "x = [4.250000 5.500000 4.750000]\n",
      "Norma residuum ||r|| = 9.845e-16\n",
      "\n",
      "Końcowy wynik po 3 iteracjach:\n",
      "[4.250000 5.500000 4.750000]\n",
      "\n",
      "Wektor początkowy x0 (x0 = [1,1,1]):\n",
      "[1.000000 1.000000 1.000000]\n",
      "\n",
      "Wyniki iteracji:\n",
      "Iteracja 0:\n",
      "x = [1.000000 1.000000 1.000000]\n",
      "Norma residuum ||r|| = 4.123e+00\n",
      "\n",
      "Iteracja 1:\n",
      "x = [3.428571 3.428571 4.642857]\n",
      "Norma residuum ||r|| = 3.737e+00\n",
      "\n",
      "Iteracja 2:\n",
      "x = [3.939683 5.473016 4.898413]\n",
      "Norma residuum ||r|| = 6.848e-01\n",
      "\n",
      "Iteracja 3:\n",
      "x = [4.250000 5.500000 4.750000]\n",
      "Norma residuum ||r|| = 6.335e-16\n",
      "\n",
      "Końcowy wynik po 3 iteracjach:\n",
      "[4.250000 5.500000 4.750000]\n",
      "\n",
      "Wektor początkowy x0 (x0 = [1,0,1]):\n",
      "[1.000000 0.000000 1.000000]\n",
      "\n",
      "Wyniki iteracji:\n",
      "Iteracja 0:\n",
      "x = [1.000000 0.000000 1.000000]\n",
      "Norma residuum ||r|| = 4.583e+00\n",
      "\n",
      "Iteracja 1:\n",
      "x = [2.166667 4.666667 3.333333]\n",
      "Norma residuum ||r|| = 4.298e+00\n",
      "\n",
      "Iteracja 2:\n",
      "x = [3.994671 5.397869 4.964476]\n",
      "Norma residuum ||r|| = 6.897e-01\n",
      "\n",
      "Iteracja 3:\n",
      "x = [4.250000 5.500000 4.750000]\n",
      "Norma residuum ||r|| = 1.360e-16\n",
      "\n",
      "Końcowy wynik po 3 iteracjach:\n",
      "[4.250000 5.500000 4.750000]\n",
      "Macierz: Diagonalna z dużym rozrzutem wartości\n"
     ]
    },
    {
     "data": {
      "text/plain": [
       "<IPython.core.display.HTML object>"
      ],
      "text/html": [
       "<img src='animations\\trajectory3D_multiple_starts_3x3_tol1e-08_20250609_203621.gif' alt='Animacja trajektorii 3D'>"
      ]
     },
     "metadata": {},
     "output_type": "display_data"
    },
    {
     "name": "stdout",
     "output_type": "stream",
     "text": [
      "\n",
      "Wektor początkowy x0 (x0 = [0,0,0]):\n",
      "[0.000000 0.000000 0.000000]\n",
      "\n",
      "Wyniki iteracji:\n",
      "Iteracja 0:\n",
      "x = [0.000000 0.000000 0.000000]\n",
      "Norma residuum ||r|| = 5.385e+00\n",
      "\n",
      "Iteracja 1:\n",
      "x = [0.052759 0.035173 0.070346]\n",
      "Norma residuum ||r|| = 4.540e+00\n",
      "\n",
      "Iteracja 2:\n",
      "x = [0.899091 0.546650 0.038424]\n",
      "Norma residuum ||r|| = 4.057e+00\n",
      "\n",
      "Iteracja 3:\n",
      "x = [3.000000 0.200000 0.040000]\n",
      "Norma residuum ||r|| = 2.844e-13\n",
      "\n",
      "Końcowy wynik po 3 iteracjach:\n",
      "[3.000000 0.200000 0.040000]\n",
      "\n",
      "Wektor początkowy x0 (x0 = [1,1,1]):\n",
      "[1.000000 1.000000 1.000000]\n",
      "\n",
      "Wyniki iteracji:\n",
      "Iteracja 0:\n",
      "x = [1.000000 1.000000 1.000000]\n",
      "Norma residuum ||r|| = 9.635e+01\n",
      "\n",
      "Iteracja 1:\n",
      "x = [1.020134 0.919466 0.033592]\n",
      "Norma residuum ||r|| = 7.490e+00\n",
      "\n",
      "Iteracja 2:\n",
      "x = [1.231375 0.151363 0.040037]\n",
      "Norma residuum ||r|| = 1.834e+00\n",
      "\n",
      "Iteracja 3:\n",
      "x = [3.000000 0.200000 0.040000]\n",
      "Norma residuum ||r|| = 8.736e-12\n",
      "\n",
      "Końcowy wynik po 3 iteracjach:\n",
      "[3.000000 0.200000 0.040000]\n",
      "\n",
      "Wektor początkowy x0 (x0 = [1,0,1]):\n",
      "[1.000000 0.000000 1.000000]\n",
      "\n",
      "Wyniki iteracji:\n",
      "Iteracja 0:\n",
      "x = [1.000000 0.000000 1.000000]\n",
      "Norma residuum ||r|| = 9.604e+01\n",
      "\n",
      "Iteracja 1:\n",
      "x = [1.020016 0.020016 0.039213]\n",
      "Norma residuum ||r|| = 2.677e+00\n",
      "\n",
      "Iteracja 2:\n",
      "x = [1.410348 0.374862 0.040033]\n",
      "Norma residuum ||r|| = 2.363e+00\n",
      "\n",
      "Iteracja 3:\n",
      "x = [3.000000 0.200000 0.040000]\n",
      "Norma residuum ||r|| = 7.788e-12\n",
      "\n",
      "Końcowy wynik po 3 iteracjach:\n",
      "[3.000000 0.200000 0.040000]\n",
      "Macierz: Jednostkowa\n"
     ]
    },
    {
     "data": {
      "text/plain": [
       "<IPython.core.display.HTML object>"
      ],
      "text/html": [
       "<img src='animations\\trajectory3D_multiple_starts_3x3_tol1e-08_20250609_203622.gif' alt='Animacja trajektorii 3D'>"
      ]
     },
     "metadata": {},
     "output_type": "display_data"
    },
    {
     "name": "stdout",
     "output_type": "stream",
     "text": [
      "\n",
      "Wektor początkowy x0 (x0 = [0,0,0]):\n",
      "[0.000000 0.000000 0.000000]\n",
      "\n",
      "Wyniki iteracji:\n",
      "Iteracja 0:\n",
      "x = [0.000000 0.000000 0.000000]\n",
      "Norma residuum ||r|| = 5.385e+00\n",
      "\n",
      "Iteracja 1:\n",
      "x = [3.000000 2.000000 4.000000]\n",
      "Norma residuum ||r|| = 0.000e+00\n",
      "\n",
      "Końcowy wynik po 1 iteracjach:\n",
      "[3.000000 2.000000 4.000000]\n",
      "\n",
      "Wektor początkowy x0 (x0 = [1,1,1]):\n",
      "[1.000000 1.000000 1.000000]\n",
      "\n",
      "Wyniki iteracji:\n",
      "Iteracja 0:\n",
      "x = [1.000000 1.000000 1.000000]\n",
      "Norma residuum ||r|| = 3.742e+00\n",
      "\n",
      "Iteracja 1:\n",
      "x = [3.000000 2.000000 4.000000]\n",
      "Norma residuum ||r|| = 0.000e+00\n",
      "\n",
      "Końcowy wynik po 1 iteracjach:\n",
      "[3.000000 2.000000 4.000000]\n",
      "\n",
      "Wektor początkowy x0 (x0 = [1,0,1]):\n",
      "[1.000000 0.000000 1.000000]\n",
      "\n",
      "Wyniki iteracji:\n",
      "Iteracja 0:\n",
      "x = [1.000000 0.000000 1.000000]\n",
      "Norma residuum ||r|| = 4.123e+00\n",
      "\n",
      "Iteracja 1:\n",
      "x = [3.000000 2.000000 4.000000]\n",
      "Norma residuum ||r|| = 0.000e+00\n",
      "\n",
      "Końcowy wynik po 1 iteracjach:\n",
      "[3.000000 2.000000 4.000000]\n",
      "Macierz: Macierz Laplasjana\n"
     ]
    },
    {
     "data": {
      "text/plain": [
       "<IPython.core.display.HTML object>"
      ],
      "text/html": [
       "<img src='animations\\trajectory3D_multiple_starts_3x3_tol1e-08_20250609_203623.gif' alt='Animacja trajektorii 3D'>"
      ]
     },
     "metadata": {},
     "output_type": "display_data"
    },
    {
     "name": "stdout",
     "output_type": "stream",
     "text": [
      "\n",
      "Wektor początkowy x0 (x0 = [0,0,0]):\n",
      "[0.000000 0.000000 0.000000]\n",
      "\n",
      "Wyniki iteracji:\n",
      "Iteracja 0:\n",
      "x = [0.000000 0.000000 0.000000]\n",
      "Norma residuum ||r|| = 5.385e+00\n",
      "\n",
      "Iteracja 1:\n",
      "x = [17.400000 11.600000 23.200000]\n",
      "Norma residuum ||r|| = 2.102e+01\n",
      "\n",
      "Iteracja 2:\n",
      "x = [330.666667 375.666667 412.666667]\n",
      "Norma residuum ||r|| = 5.856e+01\n",
      "\n",
      "Iteracja 3:\n",
      "x = [5.054080e+31 5.054080e+31 5.054080e+31]\n",
      "Norma residuum ||r|| = 3.694e+16\n",
      "\n",
      "Końcowy wynik po 3 iteracjach:\n",
      "[5.054080e+31 5.054080e+31 5.054080e+31]\n",
      "\n",
      "Wektor początkowy x0 (x0 = [1,1,1]):\n",
      "[1.000000 1.000000 1.000000]\n",
      "\n",
      "Wyniki iteracji:\n",
      "Iteracja 0:\n",
      "x = [1.000000 1.000000 1.000000]\n",
      "Norma residuum ||r|| = 5.385e+00\n",
      "\n",
      "Iteracja 1:\n",
      "x = [18.400000 12.600000 24.200000]\n",
      "Norma residuum ||r|| = 2.102e+01\n",
      "\n",
      "Iteracja 2:\n",
      "x = [331.666667 376.666667 413.666667]\n",
      "Norma residuum ||r|| = 5.856e+01\n",
      "\n",
      "Iteracja 3:\n",
      "x = [5.054080e+31 5.054080e+31 5.054080e+31]\n",
      "Norma residuum ||r|| = 3.694e+16\n",
      "\n",
      "Końcowy wynik po 3 iteracjach:\n",
      "[5.054080e+31 5.054080e+31 5.054080e+31]\n",
      "\n",
      "Wektor początkowy x0 (x0 = [1,0,1]):\n",
      "[1.000000 0.000000 1.000000]\n",
      "\n",
      "Wyniki iteracji:\n",
      "Iteracja 0:\n",
      "x = [1.000000 0.000000 1.000000]\n",
      "Norma residuum ||r|| = 5.385e+00\n",
      "\n",
      "Iteracja 1:\n",
      "x = [12.600000 23.200000 18.400000]\n",
      "Norma residuum ||r|| = 2.102e+01\n",
      "\n",
      "Iteracja 2:\n",
      "x = [334.333333 370.333333 416.333333]\n",
      "Norma residuum ||r|| = 5.856e+01\n",
      "\n",
      "Iteracja 3:\n",
      "x = [4.043264e+32 4.043264e+32 4.043264e+32]\n",
      "Norma residuum ||r|| = 8.531e+16\n",
      "\n",
      "Końcowy wynik po 3 iteracjach:\n",
      "[4.043264e+32 4.043264e+32 4.043264e+32]\n"
     ]
    }
   ],
   "execution_count": 247
  },
  {
   "metadata": {},
   "cell_type": "markdown",
   "source": [
    "# Wnioski\n",
    "- Metoda gradientów sprzężonych jest skuteczna w rozwiązywaniu układów równań liniowych, szczególnie dla macierzy symetrycznych i dodatnio określonych."
   ],
   "id": "9ac6505b848d56c8"
  },
  {
   "metadata": {
    "ExecuteTime": {
     "end_time": "2025-06-09T18:36:24.139377Z",
     "start_time": "2025-06-09T18:36:24.136820Z"
    }
   },
   "cell_type": "code",
   "source": "",
   "id": "f6cdb4c56a000569",
   "outputs": [],
   "execution_count": 247
  },
  {
   "metadata": {},
   "cell_type": "markdown",
   "source": "# Porównanie Metdoy Gradientów Sprzężonych z Gauss-Seidel i metoda Gradientu Prostego",
   "id": "ed71140851f9fb10"
  },
  {
   "metadata": {
    "ExecuteTime": {
     "end_time": "2025-06-09T18:36:24.145666Z",
     "start_time": "2025-06-09T18:36:24.140384Z"
    }
   },
   "cell_type": "code",
   "source": [
    "import numpy as np\n",
    "\n",
    "def gaussSeidelInfo(A, b, x0, tol=1e-6, max_iter=100):\n",
    "    x = x0.copy()\n",
    "    n = len(b)\n",
    "\n",
    "    calcs = [x.copy()]\n",
    "    norms = [np.linalg.norm(b - A @ x)]\n",
    "\n",
    "    for _ in range(max_iter):\n",
    "        x_new = x.copy()\n",
    "        for i in range(n):\n",
    "            sum1 = np.dot(A[i, :i], x_new[:i])\n",
    "            sum2 = np.dot(A[i, i+1:], x[i+1:])\n",
    "            x_new[i] = (b[i] - sum1 - sum2) / A[i, i]\n",
    "\n",
    "        res_norm = np.linalg.norm(b - A @ x_new)\n",
    "        calcs.append(x_new.copy())\n",
    "        norms.append(res_norm)\n",
    "\n",
    "        if res_norm < tol:\n",
    "            break\n",
    "\n",
    "        x = x_new\n",
    "\n",
    "    return x, calcs, norms\n"
   ],
   "id": "6589d84bfd8601b",
   "outputs": [],
   "execution_count": 248
  },
  {
   "metadata": {
    "ExecuteTime": {
     "end_time": "2025-06-09T18:36:24.166729Z",
     "start_time": "2025-06-09T18:36:24.146693Z"
    }
   },
   "cell_type": "code",
   "source": [
    "def gradientDescentInfo(A, b, x0, tol=1e-6, max_iter=100, alpha=1e-3):\n",
    "    x = x0.copy()\n",
    "    r = b - A @ x\n",
    "\n",
    "    calcs = [x.copy()]\n",
    "    norms = [np.linalg.norm(r)]\n",
    "\n",
    "    for _ in range(max_iter):\n",
    "        grad = -r\n",
    "        x = x - alpha * grad\n",
    "        r = b - A @ x\n",
    "\n",
    "        calcs.append(x.copy())\n",
    "        norms.append(np.linalg.norm(r))\n",
    "\n",
    "        if np.linalg.norm(r) < tol:\n",
    "            break\n",
    "\n",
    "    return x, calcs, norms\n"
   ],
   "id": "5931fdf66109c4fc",
   "outputs": [],
   "execution_count": 249
  },
  {
   "metadata": {
    "ExecuteTime": {
     "end_time": "2025-06-09T18:36:24.179198Z",
     "start_time": "2025-06-09T18:36:24.167740Z"
    }
   },
   "cell_type": "code",
   "source": [
    "A = np.array([[4, 1], [1, 3]])\n",
    "b = np.array([1, 2])\n",
    "x0 = np.zeros(2)\n",
    "\n",
    "x_cg, calcs_cg, norms_cg = conjugateGradientInfo(A, b, x0)\n",
    "x_gs, calcs_gs, norms_gs = gaussSeidelInfo(A, b, x0)\n",
    "x_gd, calcs_gd, norms_gd = gradientDescentInfo(A, b, x0)\n",
    "\n",
    "\n",
    "print(\"Metoda Gradientów Sprzężonych:\")\n",
    "print(\"Rozwiązanie:\", x_cg)\n",
    "print(\"\\nMetoda Gauss-Seidel:\")\n",
    "print(\"Rozwiązanie:\", x_gs)\n",
    "print(\"\\nMetoda Gradientu Prostego:\")\n",
    "print(\"Rozwiązanie:\", x_gd)\n",
    "# i numpy\n",
    "print(\"Rozwiązanie numpy:\", np.linalg.solve(A, b))\n"
   ],
   "id": "89b54972e1e0f680",
   "outputs": [
    {
     "name": "stdout",
     "output_type": "stream",
     "text": [
      "Metoda Gradientów Sprzężonych:\n",
      "Rozwiązanie: [0.09090909 0.63636364]\n",
      "\n",
      "Metoda Gauss-Seidel:\n",
      "Rozwiązanie: [0.09090973 0.63636342]\n",
      "\n",
      "Metoda Gradientu Prostego:\n",
      "Rozwiązanie: [0.07477074 0.16931094]\n",
      "Rozwiązanie numpy: [0.09090909 0.63636364]\n"
     ]
    }
   ],
   "execution_count": 250
  },
  {
   "metadata": {},
   "cell_type": "markdown",
   "source": "### W metodzie gradientu prostego parametr alpha (krok) ma duży wpływ na zbieżność. W praktyce może być potrzebne dobranie go dynamicznie (np. przez line search) lub dostosowanie ręczne. ###\n",
   "id": "da181e008330f4d9"
  },
  {
   "metadata": {},
   "cell_type": "markdown",
   "source": [
    "# Porównanie metod\n",
    "\n",
    "- Metoda Gradientów Sprzężonych\n",
    "- Gauss-Seidel\n",
    "- Metoda Gradientu Prostego"
   ],
   "id": "768d8a5b48e76225"
  },
  {
   "metadata": {
    "ExecuteTime": {
     "end_time": "2025-06-09T18:36:25.300272Z",
     "start_time": "2025-06-09T18:36:24.180205Z"
    }
   },
   "cell_type": "code",
   "source": [
    "import numpy as np\n",
    "import matplotlib.pyplot as plt\n",
    "\n",
    "def generate_pos_def_matrix(n):\n",
    "    A = np.random.randn(n, n)\n",
    "    A = A.T @ A + n * np.eye(n)  \n",
    "    return A\n",
    "\n",
    "\n",
    "def run_comparison(n=100):\n",
    "    A = generate_pos_def_matrix(n)\n",
    "    b = np.random.randn(n)\n",
    "    x0 = np.zeros_like(b)\n",
    "    x_true = np.linalg.solve(A, b)\n",
    "\n",
    "    x_gd, calcs_gd, err_gd = gradientDescentInfo(A, b, x0)\n",
    "    x_ngd, calcs_ngd, err_ngd = gaussSeidelInfo(A, b, x0)\n",
    "    x_cg, calcs_cg, err_cg = conjugateGradientInfo(A, b, x0)\n",
    "\n",
    "    error_gd = np.linalg.norm(x_gd - x_true)\n",
    "    error_ngd = np.linalg.norm(x_ngd - x_true)\n",
    "    error_cg = np.linalg.norm(x_cg - x_true)\n",
    "\n",
    "    methods = ['Gradient Descent', 'Gauss Siedel', 'Conjugate Gradient']\n",
    "    iterations = [len(calcs_gd)-1, len(calcs_ngd)-1, len(calcs_cg)-1]\n",
    "    final_errors = [error_gd, error_ngd, error_cg]\n",
    "\n",
    "    plt.figure(figsize=(10, 4))\n",
    "    plt.subplot(1, 2, 1)\n",
    "    plt.bar(methods, iterations, color=['blue', 'green', 'orange'])\n",
    "    plt.title('Liczba iteracji')\n",
    "    plt.ylabel('Iteracje')\n",
    "\n",
    "    plt.subplot(1, 2, 2)\n",
    "    plt.bar(methods, final_errors, color=['blue', 'green', 'orange'])\n",
    "    plt.title('Błąd końcowy względem numpy.linalg.solve')\n",
    "    plt.ylabel('Norma ||x - x_true||')\n",
    "    plt.yscale('log')\n",
    "\n",
    "    plt.tight_layout()\n",
    "    plt.show()\n",
    "\n",
    "    plt.figure(figsize=(10, 6))\n",
    "    plt.plot(err_gd, label='Gradient Descent')\n",
    "    plt.plot(err_ngd, label='Gauss Siedel')\n",
    "    plt.plot(err_cg, label='Conjugate Gradient')\n",
    "    plt.yscale('log')\n",
    "    plt.title('Zbieżność metod iteracyjnych')\n",
    "    plt.xlabel('Iteracja')\n",
    "    plt.ylabel('Norma residuum (log-scale)')\n",
    "    plt.legend()\n",
    "    plt.grid(True)\n",
    "    plt.show()\n",
    "\n",
    "run_comparison(n=30)"
   ],
   "id": "d9cb93c9b811fb75",
   "outputs": [
    {
     "data": {
      "text/plain": [
       "<Figure size 1000x400 with 2 Axes>"
      ],
      "image/png": "[encoded data removed]"
     },
     "metadata": {},
     "output_type": "display_data"
    },
    {
     "data": {
      "text/plain": [
       "<Figure size 1000x600 with 1 Axes>"
      ],
      "image/png": "[encoded data removed]"
     },
     "metadata": {},
     "output_type": "display_data"
    }
   ],
   "execution_count": 251
  },
  {
   "metadata": {
    "ExecuteTime": {
     "end_time": "2025-06-09T18:36:25.304600Z",
     "start_time": "2025-06-09T18:36:25.302346Z"
    }
   },
   "cell_type": "code",
   "source": "",
   "id": "fbc6a56ce9b50a6c",
   "outputs": [],
   "execution_count": 251
  }
 ],
 "metadata": {
  "kernelspec": {
   "display_name": "Python 3",
   "language": "python",
   "name": "python3"
  },
  "language_info": {
   "codemirror_mode": {
    "name": "ipython",
    "version": 2
   },
   "file_extension": ".py",
   "mimetype": "text/x-python",
   "name": "python",
   "nbconvert_exporter": "python",
   "pygments_lexer": "ipython2",
   "version": "2.7.6"
  }
 },
 "nbformat": 4,
 "nbformat_minor": 5
}
