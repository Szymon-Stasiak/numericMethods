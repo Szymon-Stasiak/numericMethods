{
 "cells": [
  {
   "metadata": {},
   "cell_type": "markdown",
   "source": "# Methods of Solving Equations #",
   "id": "9d7d1fa32d1d17fe"
  },
  {
   "metadata": {},
   "cell_type": "markdown",
   "source": "Define a basic matrix with equations to solve:",
   "id": "67ac1b1b2ab43c7b"
  },
  {
   "metadata": {
    "ExecuteTime": {
     "end_time": "2025-05-27T10:08:04.228501Z",
     "start_time": "2025-05-27T10:08:04.223511Z"
    }
   },
   "cell_type": "code",
   "source": [
    "A = [4, -1, -0.2, 2], [-1, 5, 0, -2], [0.2, 1, 10, -1], [0, -2, -1, 4];\n",
    "b = [30, 0, -10, 5];"
   ],
   "id": "8791d403780af8cb",
   "outputs": [],
   "execution_count": 1
  },
  {
   "metadata": {},
   "cell_type": "markdown",
   "source": "x = [x1, x2, x3, x4]",
   "id": "1ea8bec3a5a4de94"
  },
  {
   "metadata": {},
   "cell_type": "markdown",
   "source": [
    "\n",
    "Ax=b"
   ],
   "id": "e8fd104f38c022e5"
  },
  {
   "metadata": {},
   "cell_type": "markdown",
   "source": "# Jacobi method",
   "id": "16a7cc58b62c74f0"
  },
  {
   "metadata": {},
   "cell_type": "markdown",
   "source": [
    "### Short description ###\n",
    "The Jacobi method is an iterative algorithm used to solve a system of linear equations. It is particularly useful for large systems where direct methods (like Gaussian elimination) may be computationally expensive. The method works by decomposing the matrix into its diagonal, lower triangular, and upper triangular components, and then iteratively refining the solution vector until convergence.\n",
    "\n",
    "### x^(n+1)=Mx+Nb"
   ],
   "id": "cc28db1d225ec628"
  },
  {
   "metadata": {},
   "cell_type": "markdown",
   "source": "### Figuring out how it works",
   "id": "916057ea1cc1957f"
  },
  {
   "metadata": {},
   "cell_type": "code",
   "outputs": [],
   "execution_count": null,
   "source": "import numpy as np",
   "id": "56e4e85944045895"
  },
  {
   "metadata": {
    "ExecuteTime": {
     "end_time": "2025-05-27T10:13:31.716699Z",
     "start_time": "2025-05-27T10:13:31.713624Z"
    }
   },
   "cell_type": "code",
   "source": [
    "upper = np.tril(A,k=1)\n",
    "diag = np.diag(np.diag(A))\n",
    "lower = np.tril(A,k=-1)"
   ],
   "id": "300c680a370141d",
   "outputs": [],
   "execution_count": 6
  },
  {
   "metadata": {
    "ExecuteTime": {
     "end_time": "2025-05-27T10:43:29.861127Z",
     "start_time": "2025-05-27T10:43:29.856425Z"
    }
   },
   "cell_type": "code",
   "source": [
    "inverse = np.linalg.inv(diag)\n",
    "x=np.zeros_like(b)\n",
    "M=inverse*(lower+upper)\n",
    "toleration = 1e-8\n",
    "iteration = 1000000\n",
    "old_x=x\n",
    "while iteration > 0:\n",
    "    x = M @ x + inverse @ b\n",
    "    if np.linalg.norm(x-old_x) > toleration:\n",
    "        break\n",
    "    old_x=x\n",
    "    iteration-=1\n",
    "print(x)\n",
    "print(1000000-iteration)"
   ],
   "id": "715a100c4897605d",
   "outputs": [
    {
     "name": "stdout",
     "output_type": "stream",
     "text": [
      "[ 7.5   0.   -1.    1.25]\n",
      "0\n"
     ]
    }
   ],
   "execution_count": 25
  },
  {
   "metadata": {},
   "cell_type": "markdown",
   "source": "### Function implementation",
   "id": "6b4797389185054"
  },
  {
   "metadata": {
    "ExecuteTime": {
     "end_time": "2025-05-27T10:43:31.852450Z",
     "start_time": "2025-05-27T10:43:31.847870Z"
    }
   },
   "cell_type": "code",
   "source": [
    "def jacobi(A, b, tol=1e-8, max_iteration=100_000):\n",
    "    old_x=x=np.zeros_like(b)\n",
    "    M=np.linalg.inv(np.diag(np.diag(A)))*(np.tril(A,k=1)+np.tril(A,k=-1))\n",
    "    while max_iteration > 0:\n",
    "        x = M @ x + inverse @ b\n",
    "        if np.linalg.norm(x-old_x) > tol:\n",
    "            break\n",
    "        old_x=x\n",
    "        max_iteration-=1\n",
    "    return x"
   ],
   "id": "b1111013b90985b0",
   "outputs": [],
   "execution_count": 26
  },
  {
   "metadata": {
    "ExecuteTime": {
     "end_time": "2025-05-27T10:43:32.823315Z",
     "start_time": "2025-05-27T10:43:32.819942Z"
    }
   },
   "cell_type": "code",
   "source": "print(jacobi(A,b))",
   "id": "b64ae000e85583d3",
   "outputs": [
    {
     "name": "stdout",
     "output_type": "stream",
     "text": [
      "[ 7.5   0.   -1.    1.25]\n"
     ]
    }
   ],
   "execution_count": 27
  },
  {
   "metadata": {},
   "cell_type": "markdown",
   "source": [
    "## Conclusion ### \n",
    "This method is practical, easy to implement, and easy to understand. However, if we require very high precision, it might be less suitable because we can never obtain a truly exact solution—only an approximation within a certain tolerance."
   ],
   "id": "2a98fb9f6ef79f5a"
  },
  {
   "metadata": {},
   "cell_type": "code",
   "outputs": [],
   "execution_count": null,
   "source": "",
   "id": "e6080b0cad65b9bf"
  }
 ],
 "metadata": {
  "kernelspec": {
   "display_name": "Python 3",
   "language": "python",
   "name": "python3"
  },
  "language_info": {
   "codemirror_mode": {
    "name": "ipython",
    "version": 2
   },
   "file_extension": ".py",
   "mimetype": "text/x-python",
   "name": "python",
   "nbconvert_exporter": "python",
   "pygments_lexer": "ipython2",
   "version": "2.7.6"
  }
 },
 "nbformat": 4,
 "nbformat_minor": 5
}
