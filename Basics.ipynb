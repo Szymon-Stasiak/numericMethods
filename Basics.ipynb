{
 "cells": [
  {
   "cell_type": "code",
   "id": "initial_id",
   "metadata": {
    "collapsed": true,
    "ExecuteTime": {
     "end_time": "2025-05-19T16:20:53.834547Z",
     "start_time": "2025-05-19T16:20:53.831803Z"
    }
   },
   "source": [
    "import numpy as np\n",
    "import os\n",
    "import pickle"
   ],
   "outputs": [],
   "execution_count": 134
  },
  {
   "metadata": {
    "ExecuteTime": {
     "end_time": "2025-05-19T16:22:10.375125Z",
     "start_time": "2025-05-19T16:22:10.370463Z"
    }
   },
   "cell_type": "code",
   "source": [
    "matrixA = np.array([[2, -7],\n",
    "                    [5, 4]])\n",
    "\n",
    "matrixB = np.array([[6, 1],\n",
    "                    [4, -3]])\n",
    "\n",
    "vectorF = np.array([4, 1])\n",
    "\n",
    "print(\"Matrix A:\")\n",
    "print(matrixA)\n",
    "print(\"Matrix B:\")\n",
    "print(matrixB)\n",
    "print(\"Vector:\")\n",
    "print(vectorF)"
   ],
   "id": "501be9368d9759c2",
   "outputs": [
    {
     "name": "stdout",
     "output_type": "stream",
     "text": [
      "Matrix A:\n",
      "[[ 2 -7]\n",
      " [ 5  4]]\n",
      "Matrix B:\n",
      "[[ 6  1]\n",
      " [ 4 -3]]\n",
      "Vector:\n",
      "[4 1]\n"
     ]
    }
   ],
   "execution_count": 140
  },
  {
   "metadata": {
    "ExecuteTime": {
     "end_time": "2025-05-19T16:20:54.951823Z",
     "start_time": "2025-05-19T16:20:54.947721Z"
    }
   },
   "cell_type": "code",
   "source": [
    "print(\"Size of matrixA:\", matrixA.shape)\n",
    "print(\"Size of vector:\", vectorF.shape)"
   ],
   "id": "a7958dcfbcc87066",
   "outputs": [
    {
     "name": "stdout",
     "output_type": "stream",
     "text": [
      "Size of matrixA: (2, 2)\n",
      "Size of vector: (2,)\n"
     ]
    }
   ],
   "execution_count": 136
  },
  {
   "metadata": {
    "ExecuteTime": {
     "end_time": "2025-05-19T16:20:55.554338Z",
     "start_time": "2025-05-19T16:20:55.550056Z"
    }
   },
   "cell_type": "code",
   "source": [
    "matrixB_T = matrixB.T\n",
    "print(\"Transpose of matrixB:\")\n",
    "print(matrixB_T)"
   ],
   "id": "a98d40f3eb4b065d",
   "outputs": [
    {
     "name": "stdout",
     "output_type": "stream",
     "text": [
      "Transpose of matrixB:\n",
      "[[ 6  4]\n",
      " [ 1 -3]]\n"
     ]
    }
   ],
   "execution_count": 137
  },
  {
   "metadata": {
    "ExecuteTime": {
     "end_time": "2025-05-19T16:16:05.764188Z",
     "start_time": "2025-05-19T16:16:05.760087Z"
    }
   },
   "cell_type": "code",
   "source": [
    "matrixC = np.dot((matrixA + matrixB), (matrixA + matrixB)) + 2 * (matrixA - matrixB)\n",
    "print(\"Answer:\")\n",
    "print(matrixC)"
   ],
   "id": "5b98a3cf4abd016d",
   "outputs": [
    {
     "name": "stdout",
     "output_type": "stream",
     "text": [
      "Answer:\n",
      "[[  2 -70]\n",
      " [ 83 -39]]\n"
     ]
    }
   ],
   "execution_count": 123
  },
  {
   "metadata": {
    "ExecuteTime": {
     "end_time": "2025-05-19T16:16:06.287882Z",
     "start_time": "2025-05-19T16:16:06.282965Z"
    }
   },
   "cell_type": "code",
   "source": [
    "matrixC = np.hstack((matrixA, matrixB))\n",
    "vectorH = np.hstack((vectorF, vectorF))\n",
    "print(\"Matrix C:\")\n",
    "print(matrixC)\n",
    "print(\"Vector H:\")\n",
    "print(vectorH)"
   ],
   "id": "c194d98ab627a446",
   "outputs": [
    {
     "name": "stdout",
     "output_type": "stream",
     "text": [
      "Matrix C:\n",
      "[[ 2 -7  6  1]\n",
      " [ 5  4  4 -3]]\n",
      "Vector H:\n",
      "[4 1 4 1]\n"
     ]
    }
   ],
   "execution_count": 124
  },
  {
   "metadata": {
    "ExecuteTime": {
     "end_time": "2025-05-19T16:16:07.262160Z",
     "start_time": "2025-05-19T16:16:07.257562Z"
    }
   },
   "cell_type": "code",
   "source": [
    "matrixC = np.dot(matrixC, vectorH)\n",
    "print(\"Matrix C * Vector H:\")\n",
    "print(matrixC)"
   ],
   "id": "760ca37d3f0a8b4c",
   "outputs": [
    {
     "name": "stdout",
     "output_type": "stream",
     "text": [
      "Matrix C * Vector H:\n",
      "[26 37]\n"
     ]
    }
   ],
   "execution_count": 125
  },
  {
   "metadata": {
    "ExecuteTime": {
     "end_time": "2025-05-19T16:16:08.939352Z",
     "start_time": "2025-05-19T16:16:08.934526Z"
    }
   },
   "cell_type": "code",
   "source": [
    "for name, value in locals().items():\n",
    "    print(f\"{name} = {value}\")"
   ],
   "id": "15ff1ee4f84b4d87",
   "outputs": [
    {
     "name": "stdout",
     "output_type": "stream",
     "text": [
      "__name__ = __main__\n",
      "__doc__ = Automatically created module for IPython interactive environment\n",
      "__package__ = None\n",
      "__loader__ = None\n",
      "__spec__ = None\n",
      "__builtin__ = <module 'builtins' (built-in)>\n",
      "__builtins__ = <module 'builtins' (built-in)>\n",
      "__ = \n",
      "___ = \n",
      "__session__ = Basics.ipynb\n",
      "var = _i96\n",
      "sys = <module 'sys' (built-in)>\n",
      "remove_imported_pydev_package = <function remove_imported_pydev_package at 0x0000018128126A20>\n",
      "_pydevd_bundle = <module '_pydevd_bundle' from 'C:\\\\Users\\\\stszy\\\\AppData\\\\Local\\\\Programs\\\\PyCharm Professional\\\\plugins\\\\python\\\\helpers\\\\pydev\\\\_pydevd_bundle\\\\__init__.py'>\n",
      "pydev_jupyter_vars = <module 'pydev_jupyter_vars' from 'C:\\\\Users\\\\stszy\\\\AppData\\\\Local\\\\Programs\\\\PyCharm Professional\\\\plugins\\\\python\\\\helpers-pro\\\\jupyter_debug\\\\pydev_jupyter_vars.py'>\n",
      "_i = matrixC = np.dot(matrixC, vectorH)\n",
      "print(\"Matrix C * Vector H:\")\n",
      "print(matrixC)\n",
      "_ii = matrixC = np.hstack((matrixA, matrixB))\n",
      "vectorH = np.hstack((vectorF, vectorF))\n",
      "print(\"Matrix C:\")\n",
      "print(matrixC)\n",
      "print(\"Vector H:\")\n",
      "print(vectorH)\n",
      "_iii = matrixC = np.dot((matrixA + matrixB), (matrixA + matrixB)) + 2 * (matrixA - matrixB)\n",
      "print(\"Answer:\")\n",
      "print(matrixC)\n",
      "_i97 = local_vars = locals()\n",
      "for name, value in local_vars.items():\n",
      "    print(f\"{name} = {value}\")\n",
      "local_vars = {'__name__': '__main__', '__doc__': 'Automatically created module for IPython interactive environment', '__package__': None, '__loader__': None, '__spec__': None, '__builtin__': <module 'builtins' (built-in)>, '__builtins__': <module 'builtins' (built-in)>, '__': '', '___': '', '__session__': 'Basics.ipynb', 'var': '_i96', 'sys': <module 'sys' (built-in)>, 'remove_imported_pydev_package': <function remove_imported_pydev_package at 0x0000018128126A20>, '_pydevd_bundle': <module '_pydevd_bundle' from 'C:\\\\Users\\\\stszy\\\\AppData\\\\Local\\\\Programs\\\\PyCharm Professional\\\\plugins\\\\python\\\\helpers\\\\pydev\\\\_pydevd_bundle\\\\__init__.py'>, 'pydev_jupyter_vars': <module 'pydev_jupyter_vars' from 'C:\\\\Users\\\\stszy\\\\AppData\\\\Local\\\\Programs\\\\PyCharm Professional\\\\plugins\\\\python\\\\helpers-pro\\\\jupyter_debug\\\\pydev_jupyter_vars.py'>, '_i': 'matrixC = np.dot(matrixC, vectorH)\\nprint(\"Matrix C * Vector H:\")\\nprint(matrixC)', '_ii': 'matrixC = np.hstack((matrixA, matrixB))\\nvectorH = np.hstack((vectorF, vectorF))\\nprint(\"Matrix C:\")\\nprint(matrixC)\\nprint(\"Vector H:\")\\nprint(vectorH)', '_iii': 'matrixC = np.dot((matrixA + matrixB), (matrixA + matrixB)) + 2 * (matrixA - matrixB)\\nprint(\"Answer:\")\\nprint(matrixC)', '_i97': 'local_vars = locals()\\nfor name, value in local_vars.items():\\n    print(f\"{name} = {value}\")', 'local_vars': {...}, 'name': 'local_vars', 'value': {...}, '_i98': 'print(locals())', '_i99': 'import numpy as np\\nimport os\\nimport pickle', 'np': <module 'numpy' from 'C:\\\\Users\\\\stszy\\\\AppData\\\\Roaming\\\\Python\\\\Python312\\\\site-packages\\\\numpy\\\\__init__.py'>, 'os': <module 'os' from 'C:\\\\Users\\\\stszy\\\\miniconda3\\\\Lib\\\\os.py'>, 'pickle': <module 'pickle' from 'C:\\\\Users\\\\stszy\\\\miniconda3\\\\Lib\\\\pickle.py'>, '_i100': 'matrixA = np.array([[2, -7],\\n                    [5, 4]])\\n\\nmatrixB = np.array([[6, 1],\\n                    [4, -3]])\\n\\nvectorF = np.array([4, 1])\\n\\nprint(\"Matrix A:\")\\nprint(matrixA)\\nprint(\"Matrix B:\")\\nprint(matrixB)\\nprint(\"Vector:\")\\nprint(vectorF)', 'matrixA': array([[ 2, -7],\n",
      "       [ 5,  4]]), 'matrixB': array([[ 6,  1],\n",
      "       [ 4, -3]]), 'vectorF': array([4, 1]), '_i101': 'print(\"Size of matrixA:\", matrixA.shape)\\nprint(\"Size of vector:\", vectorF.shape)', '_i102': 'matrixB_T = matrixB.T\\nprint(\"Transpose of matrixB:\")\\nprint(matrixB_T)', 'matrixB_T': array([[ 6,  4],\n",
      "       [ 1, -3]]), '_i103': 'matrixC = np.dot((matrixA + matrixB), (matrixA + matrixB)) + 2 * (matrixA - matrixB)\\nprint(\"Answer:\")\\nprint(matrixC)', 'matrixC': array([26, 37]), '_i104': 'matrixC = np.hstack((matrixA, matrixB))\\nvectorH = np.hstack((vectorF, vectorF))\\nprint(\"Matrix C:\")\\nprint(matrixC)\\nprint(\"Vector H:\")\\nprint(vectorH)', 'vectorH': array([4, 1, 4, 1]), '_i105': 'matrixC = np.dot(matrixC, vectorH)\\nprint(\"Matrix C * Vector H:\")\\nprint(matrixC)', '_i106': 'local_vars = locals()\\nfor name, value in local_vars.items():\\n    print(f\"{name} = {value}\")', '_i107': 'print(locals())', '_i108': 'with open(\"data.txt\", \"w\") as f:\\n    for key, value in globals().items():\\n        if not key.startswith(\"__\"):\\n            f.write(f\"{key} = {value}\\\\n\")', 'f': <_io.TextIOWrapper name='data.txt' mode='w' encoding='cp1252'>, 'key': '__name__', '_i109': 'local_vars = locals()\\nfor name, value in local_vars.items():\\n    print(f\"{name} = {value}\")', '_i110': 'print(locals())', '_i111': 'import numpy as np\\nimport os\\nimport pickle', '_i112': 'matrixA = np.array([[2, -7],\\n                    [5, 4]])\\n\\nmatrixB = np.array([[6, 1],\\n                    [4, -3]])\\n\\nvectorF = np.array([4, 1])\\n\\nprint(\"Matrix A:\")\\nprint(matrixA)\\nprint(\"Matrix B:\")\\nprint(matrixB)\\nprint(\"Vector:\")\\nprint(vectorF)', '_i113': 'print(\"Size of matrixA:\", matrixA.shape)\\nprint(\"Size of vector:\", vectorF.shape)', '_i114': 'matrixB_T = matrixB.T\\nprint(\"Transpose of matrixB:\")\\nprint(matrixB_T)', '_i115': 'matrixC = np.dot((matrixA + matrixB), (matrixA + matrixB)) + 2 * (matrixA - matrixB)\\nprint(\"Answer:\")\\nprint(matrixC)', '_i116': 'matrixC = np.hstack((matrixA, matrixB))\\nvectorH = np.hstack((vectorF, vectorF))\\nprint(\"Matrix C:\")\\nprint(matrixC)\\nprint(\"Vector H:\")\\nprint(vectorH)', '_i117': 'matrixC = np.dot(matrixC, vectorH)\\nprint(\"Matrix C * Vector H:\")\\nprint(matrixC)', '_i118': 'matrixC = np.dot(matrixC, vectorH)\\nprint(\"Matrix C * Vector H:\")\\nprint(matrixC)', '_i119': 'import numpy as np\\nimport os\\nimport pickle', '_i120': 'matrixA = np.array([[2, -7],\\n                    [5, 4]])\\n\\nmatrixB = np.array([[6, 1],\\n                    [4, -3]])\\n\\nvectorF = np.array([4, 1])\\n\\nprint(\"Matrix A:\")\\nprint(matrixA)\\nprint(\"Matrix B:\")\\nprint(matrixB)\\nprint(\"Vector:\")\\nprint(vectorF)', '_i121': 'print(\"Size of matrixA:\", matrixA.shape)\\nprint(\"Size of vector:\", vectorF.shape)', '_i122': 'matrixB_T = matrixB.T\\nprint(\"Transpose of matrixB:\")\\nprint(matrixB_T)', '_i123': 'matrixC = np.dot((matrixA + matrixB), (matrixA + matrixB)) + 2 * (matrixA - matrixB)\\nprint(\"Answer:\")\\nprint(matrixC)', '_i124': 'matrixC = np.hstack((matrixA, matrixB))\\nvectorH = np.hstack((vectorF, vectorF))\\nprint(\"Matrix C:\")\\nprint(matrixC)\\nprint(\"Vector H:\")\\nprint(vectorH)', '_i125': 'matrixC = np.dot(matrixC, vectorH)\\nprint(\"Matrix C * Vector H:\")\\nprint(matrixC)', '_i126': 'for name, value in locals().items():\\n    print(f\"{name} = {value}\")'}\n",
      "name = local_vars\n",
      "value = local_vars\n",
      "_i98 = print(locals())\n",
      "_i99 = import numpy as np\n",
      "import os\n",
      "import pickle\n",
      "np = <module 'numpy' from 'C:\\\\Users\\\\stszy\\\\AppData\\\\Roaming\\\\Python\\\\Python312\\\\site-packages\\\\numpy\\\\__init__.py'>\n",
      "os = <module 'os' from 'C:\\\\Users\\\\stszy\\\\miniconda3\\\\Lib\\\\os.py'>\n",
      "pickle = <module 'pickle' from 'C:\\\\Users\\\\stszy\\\\miniconda3\\\\Lib\\\\pickle.py'>\n",
      "_i100 = matrixA = np.array([[2, -7],\n",
      "                    [5, 4]])\n",
      "\n",
      "matrixB = np.array([[6, 1],\n",
      "                    [4, -3]])\n",
      "\n",
      "vectorF = np.array([4, 1])\n",
      "\n",
      "print(\"Matrix A:\")\n",
      "print(matrixA)\n",
      "print(\"Matrix B:\")\n",
      "print(matrixB)\n",
      "print(\"Vector:\")\n",
      "print(vectorF)\n",
      "matrixA = [[ 2 -7]\n",
      " [ 5  4]]\n",
      "matrixB = [[ 6  1]\n",
      " [ 4 -3]]\n",
      "vectorF = [4 1]\n",
      "_i101 = print(\"Size of matrixA:\", matrixA.shape)\n",
      "print(\"Size of vector:\", vectorF.shape)\n",
      "_i102 = matrixB_T = matrixB.T\n",
      "print(\"Transpose of matrixB:\")\n",
      "print(matrixB_T)\n",
      "matrixB_T = [[ 6  4]\n",
      " [ 1 -3]]\n",
      "_i103 = matrixC = np.dot((matrixA + matrixB), (matrixA + matrixB)) + 2 * (matrixA - matrixB)\n",
      "print(\"Answer:\")\n",
      "print(matrixC)\n",
      "matrixC = [26 37]\n",
      "_i104 = matrixC = np.hstack((matrixA, matrixB))\n",
      "vectorH = np.hstack((vectorF, vectorF))\n",
      "print(\"Matrix C:\")\n",
      "print(matrixC)\n",
      "print(\"Vector H:\")\n",
      "print(vectorH)\n",
      "vectorH = [4 1 4 1]\n",
      "_i105 = matrixC = np.dot(matrixC, vectorH)\n",
      "print(\"Matrix C * Vector H:\")\n",
      "print(matrixC)\n",
      "_i106 = local_vars = locals()\n",
      "for name, value in local_vars.items():\n",
      "    print(f\"{name} = {value}\")\n",
      "_i107 = print(locals())\n",
      "_i108 = with open(\"data.txt\", \"w\") as f:\n",
      "    for key, value in globals().items():\n",
      "        if not key.startswith(\"__\"):\n",
      "            f.write(f\"{key} = {value}\\n\")\n",
      "f = <_io.TextIOWrapper name='data.txt' mode='w' encoding='cp1252'>\n",
      "key = __name__\n",
      "_i109 = local_vars = locals()\n",
      "for name, value in local_vars.items():\n",
      "    print(f\"{name} = {value}\")\n",
      "_i110 = print(locals())\n",
      "_i111 = import numpy as np\n",
      "import os\n",
      "import pickle\n",
      "_i112 = matrixA = np.array([[2, -7],\n",
      "                    [5, 4]])\n",
      "\n",
      "matrixB = np.array([[6, 1],\n",
      "                    [4, -3]])\n",
      "\n",
      "vectorF = np.array([4, 1])\n",
      "\n",
      "print(\"Matrix A:\")\n",
      "print(matrixA)\n",
      "print(\"Matrix B:\")\n",
      "print(matrixB)\n",
      "print(\"Vector:\")\n",
      "print(vectorF)\n",
      "_i113 = print(\"Size of matrixA:\", matrixA.shape)\n",
      "print(\"Size of vector:\", vectorF.shape)\n",
      "_i114 = matrixB_T = matrixB.T\n",
      "print(\"Transpose of matrixB:\")\n",
      "print(matrixB_T)\n",
      "_i115 = matrixC = np.dot((matrixA + matrixB), (matrixA + matrixB)) + 2 * (matrixA - matrixB)\n",
      "print(\"Answer:\")\n",
      "print(matrixC)\n",
      "_i116 = matrixC = np.hstack((matrixA, matrixB))\n",
      "vectorH = np.hstack((vectorF, vectorF))\n",
      "print(\"Matrix C:\")\n",
      "print(matrixC)\n",
      "print(\"Vector H:\")\n",
      "print(vectorH)\n",
      "_i117 = matrixC = np.dot(matrixC, vectorH)\n",
      "print(\"Matrix C * Vector H:\")\n",
      "print(matrixC)\n",
      "_i118 = matrixC = np.dot(matrixC, vectorH)\n",
      "print(\"Matrix C * Vector H:\")\n",
      "print(matrixC)\n",
      "_i119 = import numpy as np\n",
      "import os\n",
      "import pickle\n",
      "_i120 = matrixA = np.array([[2, -7],\n",
      "                    [5, 4]])\n",
      "\n",
      "matrixB = np.array([[6, 1],\n",
      "                    [4, -3]])\n",
      "\n",
      "vectorF = np.array([4, 1])\n",
      "\n",
      "print(\"Matrix A:\")\n",
      "print(matrixA)\n",
      "print(\"Matrix B:\")\n",
      "print(matrixB)\n",
      "print(\"Vector:\")\n",
      "print(vectorF)\n",
      "_i121 = print(\"Size of matrixA:\", matrixA.shape)\n",
      "print(\"Size of vector:\", vectorF.shape)\n",
      "_i122 = matrixB_T = matrixB.T\n",
      "print(\"Transpose of matrixB:\")\n",
      "print(matrixB_T)\n",
      "_i123 = matrixC = np.dot((matrixA + matrixB), (matrixA + matrixB)) + 2 * (matrixA - matrixB)\n",
      "print(\"Answer:\")\n",
      "print(matrixC)\n",
      "_i124 = matrixC = np.hstack((matrixA, matrixB))\n",
      "vectorH = np.hstack((vectorF, vectorF))\n",
      "print(\"Matrix C:\")\n",
      "print(matrixC)\n",
      "print(\"Vector H:\")\n",
      "print(vectorH)\n",
      "_i125 = matrixC = np.dot(matrixC, vectorH)\n",
      "print(\"Matrix C * Vector H:\")\n",
      "print(matrixC)\n",
      "_i126 = for name, value in locals().items():\n",
      "    print(f\"{name} = {value}\")\n"
     ]
    }
   ],
   "execution_count": 126
  },
  {
   "metadata": {
    "ExecuteTime": {
     "end_time": "2025-05-19T16:16:28.356513Z",
     "start_time": "2025-05-19T16:16:28.351427Z"
    }
   },
   "cell_type": "code",
   "source": [
    "with open(\"data.txt\", \"w\") as f:\n",
    "    for key, value in globals().items():\n",
    "        if not key.startswith(\"__\"):\n",
    "            f.write(f\"{key} = {value}\\n\")"
   ],
   "id": "5682bceb71ad8e76",
   "outputs": [],
   "execution_count": 127
  },
  {
   "metadata": {
    "ExecuteTime": {
     "end_time": "2025-05-19T16:16:50.197955Z",
     "start_time": "2025-05-19T16:16:50.194331Z"
    }
   },
   "cell_type": "code",
   "source": [
    "for var in list(globals().keys()):\n",
    "    if not var.startswith(\"__\"):\n",
    "        del globals()[var]\n",
    "        "
   ],
   "id": "ad029e1fccaa2574",
   "outputs": [],
   "execution_count": 128
  },
  {
   "metadata": {
    "ExecuteTime": {
     "end_time": "2025-05-19T16:16:52.300586Z",
     "start_time": "2025-05-19T16:16:52.274205Z"
    }
   },
   "cell_type": "code",
   "source": [
    "\n",
    "for name, value in locals().items():\n",
    "    print(f\"{name} = {value}\")"
   ],
   "id": "890552dbaa00b1dc",
   "outputs": [
    {
     "name": "stdout",
     "output_type": "stream",
     "text": [
      "__name__ = __main__\n"
     ]
    },
    {
     "ename": "RuntimeError",
     "evalue": "dictionary changed size during iteration",
     "output_type": "error",
     "traceback": [
      "\u001B[31m---------------------------------------------------------------------------\u001B[39m",
      "\u001B[31mRuntimeError\u001B[39m                              Traceback (most recent call last)",
      "\u001B[36mCell\u001B[39m\u001B[36m \u001B[39m\u001B[32mIn[129]\u001B[39m\u001B[32m, line 1\u001B[39m\n\u001B[32m----> \u001B[39m\u001B[32m1\u001B[39m \u001B[38;5;28;01mfor\u001B[39;00m name, value \u001B[38;5;129;01min\u001B[39;00m \u001B[38;5;28mlocals\u001B[39m().items():\n\u001B[32m      2\u001B[39m     \u001B[38;5;28mprint\u001B[39m(\u001B[33mf\u001B[39m\u001B[33m\"\u001B[39m\u001B[38;5;132;01m{\u001B[39;00mname\u001B[38;5;132;01m}\u001B[39;00m\u001B[33m = \u001B[39m\u001B[38;5;132;01m{\u001B[39;00mvalue\u001B[38;5;132;01m}\u001B[39;00m\u001B[33m\"\u001B[39m)\n",
      "\u001B[31mRuntimeError\u001B[39m: dictionary changed size during iteration"
     ]
    }
   ],
   "execution_count": 129
  },
  {
   "metadata": {
    "ExecuteTime": {
     "end_time": "2025-05-19T16:24:16.650171Z",
     "start_time": "2025-05-19T16:24:16.644916Z"
    }
   },
   "cell_type": "code",
   "source": [
    "vectorX = np.arange(1, 25)\n",
    "print(\"Vector X:\")\n",
    "print(vectorX)"
   ],
   "id": "e88ebc1d090b9c0c",
   "outputs": [
    {
     "name": "stdout",
     "output_type": "stream",
     "text": [
      "Vector X:\n",
      "[ 1  2  3  4  5  6  7  8  9 10 11 12 13 14 15 16 17 18 19 20 21 22 23 24]\n"
     ]
    }
   ],
   "execution_count": 142
  },
  {
   "metadata": {
    "ExecuteTime": {
     "end_time": "2025-05-19T16:24:17.548659Z",
     "start_time": "2025-05-19T16:24:17.544400Z"
    }
   },
   "cell_type": "code",
   "source": [
    "matrixY = vectorX.reshape(4, 6)\n",
    "print(\"Matrix Y:\")\n",
    "print(matrixY)"
   ],
   "id": "94c8069f6c528dcc",
   "outputs": [
    {
     "name": "stdout",
     "output_type": "stream",
     "text": [
      "Matrix Y:\n",
      "[[ 1  2  3  4  5  6]\n",
      " [ 7  8  9 10 11 12]\n",
      " [13 14 15 16 17 18]\n",
      " [19 20 21 22 23 24]]\n"
     ]
    }
   ],
   "execution_count": 143
  },
  {
   "metadata": {
    "ExecuteTime": {
     "end_time": "2025-05-19T16:25:46.046071Z",
     "start_time": "2025-05-19T16:25:46.042134Z"
    }
   },
   "cell_type": "code",
   "source": [
    "ans = np.exp(2 * np.sin(2 * np.pi))\n",
    "print(\"Answer:\")\n",
    "print(ans)"
   ],
   "id": "2b3801393b037a64",
   "outputs": [
    {
     "name": "stdout",
     "output_type": "stream",
     "text": [
      "Answer:\n",
      "0.9999999999999996\n"
     ]
    }
   ],
   "execution_count": 144
  },
  {
   "metadata": {
    "ExecuteTime": {
     "end_time": "2025-05-19T16:26:29.047275Z",
     "start_time": "2025-05-19T16:26:29.042987Z"
    }
   },
   "cell_type": "code",
   "source": [
    "ans = np.cos(np.pi/3)**4\n",
    "print(\"Answer:\")\n",
    "print(ans)"
   ],
   "id": "d288ee1ddac3b74",
   "outputs": [
    {
     "name": "stdout",
     "output_type": "stream",
     "text": [
      "Answer:\n",
      "0.06250000000000006\n"
     ]
    }
   ],
   "execution_count": 145
  },
  {
   "metadata": {
    "ExecuteTime": {
     "end_time": "2025-05-19T16:26:59.592081Z",
     "start_time": "2025-05-19T16:26:59.588256Z"
    }
   },
   "cell_type": "code",
   "source": [
    "ans = np.log(5**(1/2))\n",
    "print(\"Answer:\")\n",
    "print(ans)"
   ],
   "id": "90a9f1eae4734bfb",
   "outputs": [
    {
     "name": "stdout",
     "output_type": "stream",
     "text": [
      "Answer:\n",
      "0.8047189562170503\n"
     ]
    }
   ],
   "execution_count": 146
  },
  {
   "metadata": {
    "ExecuteTime": {
     "end_time": "2025-05-19T16:27:59.048068Z",
     "start_time": "2025-05-19T16:27:59.043551Z"
    }
   },
   "cell_type": "code",
   "source": [
    "z = 3 - 2j\n",
    "print(\"Complex number:\")\n",
    "print(z)\n",
    "print(\"Argument:\")\n",
    "print(np.angle(z))\n",
    "print(\"Conjugate:\")\n",
    "print(np.conjugate(z))\n"
   ],
   "id": "17b19ab7941ae32f",
   "outputs": [
    {
     "name": "stdout",
     "output_type": "stream",
     "text": [
      "Complex number:\n",
      "(3-2j)\n",
      "Argument:\n",
      "-0.5880026035475675\n",
      "Conjugate:\n",
      "(3+2j)\n"
     ]
    }
   ],
   "execution_count": 147
  },
  {
   "metadata": {
    "ExecuteTime": {
     "end_time": "2025-05-19T16:30:26.816386Z",
     "start_time": "2025-05-19T16:30:26.629850Z"
    }
   },
   "cell_type": "code",
   "source": [
    "matrix1 = np.ones((10, 10))\n",
    "print(matrix1);\n",
    "matrix0 = np.zeros((10, 10))\n",
    "print(matrix0);\n",
    "matrixRand = np.random.rand(10, 10)\n",
    "print(matrixRand);"
   ],
   "id": "e0747c151bd38d6a",
   "outputs": [
    {
     "name": "stdout",
     "output_type": "stream",
     "text": [
      "[[1. 1. 1. 1. 1. 1. 1. 1. 1. 1.]\n",
      " [1. 1. 1. 1. 1. 1. 1. 1. 1. 1.]\n",
      " [1. 1. 1. 1. 1. 1. 1. 1. 1. 1.]\n",
      " [1. 1. 1. 1. 1. 1. 1. 1. 1. 1.]\n",
      " [1. 1. 1. 1. 1. 1. 1. 1. 1. 1.]\n",
      " [1. 1. 1. 1. 1. 1. 1. 1. 1. 1.]\n",
      " [1. 1. 1. 1. 1. 1. 1. 1. 1. 1.]\n",
      " [1. 1. 1. 1. 1. 1. 1. 1. 1. 1.]\n",
      " [1. 1. 1. 1. 1. 1. 1. 1. 1. 1.]\n",
      " [1. 1. 1. 1. 1. 1. 1. 1. 1. 1.]]\n",
      "[[0. 0. 0. 0. 0. 0. 0. 0. 0. 0.]\n",
      " [0. 0. 0. 0. 0. 0. 0. 0. 0. 0.]\n",
      " [0. 0. 0. 0. 0. 0. 0. 0. 0. 0.]\n",
      " [0. 0. 0. 0. 0. 0. 0. 0. 0. 0.]\n",
      " [0. 0. 0. 0. 0. 0. 0. 0. 0. 0.]\n",
      " [0. 0. 0. 0. 0. 0. 0. 0. 0. 0.]\n",
      " [0. 0. 0. 0. 0. 0. 0. 0. 0. 0.]\n",
      " [0. 0. 0. 0. 0. 0. 0. 0. 0. 0.]\n",
      " [0. 0. 0. 0. 0. 0. 0. 0. 0. 0.]\n",
      " [0. 0. 0. 0. 0. 0. 0. 0. 0. 0.]]\n",
      "[[0.50987112 0.88996005 0.47617614 0.66264207 0.79362637 0.71628644\n",
      "  0.16219585 0.58228015 0.07534655 0.6599165 ]\n",
      " [0.51197201 0.95584897 0.29214709 0.59689031 0.73506658 0.89887843\n",
      "  0.26362413 0.17850222 0.96580421 0.44202474]\n",
      " [0.77655582 0.47601522 0.04975507 0.29392908 0.02947672 0.04128319\n",
      "  0.89486505 0.42778522 0.74777545 0.04041845]\n",
      " [0.86765543 0.07409196 0.36584962 0.42126095 0.49828004 0.91317175\n",
      "  0.67938572 0.34977649 0.26019488 0.41811945]\n",
      " [0.03344199 0.78749393 0.64699744 0.81130875 0.1424403  0.35049304\n",
      "  0.70315156 0.04278072 0.46110998 0.53065718]\n",
      " [0.01598444 0.54714086 0.12717234 0.73966724 0.79727498 0.99572933\n",
      "  0.28124674 0.86780081 0.42451759 0.24883646]\n",
      " [0.65813839 0.82967265 0.69963101 0.73364446 0.03885176 0.06366676\n",
      "  0.70165305 0.23339795 0.90553402 0.98520465]\n",
      " [0.85846329 0.59003824 0.39773263 0.83980792 0.70441702 0.42835527\n",
      "  0.39923764 0.60546261 0.49588271 0.40856298]\n",
      " [0.62923113 0.87548943 0.66458597 0.91457353 0.46398511 0.18260711\n",
      "  0.83023805 0.06412264 0.69531139 0.56719661]\n",
      " [0.98786029 0.09226368 0.91261823 0.24071468 0.91238457 0.47361261\n",
      "  0.85640057 0.34336869 0.30182988 0.33850293]]\n"
     ]
    }
   ],
   "execution_count": 149
  },
  {
   "metadata": {},
   "cell_type": "code",
   "outputs": [],
   "execution_count": null,
   "source": "",
   "id": "1434249709307b43"
  }
 ],
 "metadata": {
  "kernelspec": {
   "display_name": "Python 3",
   "language": "python",
   "name": "python3"
  },
  "language_info": {
   "codemirror_mode": {
    "name": "ipython",
    "version": 2
   },
   "file_extension": ".py",
   "mimetype": "text/x-python",
   "name": "python",
   "nbconvert_exporter": "python",
   "pygments_lexer": "ipython2",
   "version": "2.7.6"
  }
 },
 "nbformat": 4,
 "nbformat_minor": 5
}
